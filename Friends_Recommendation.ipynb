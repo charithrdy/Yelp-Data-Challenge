{
  "nbformat": 4,
  "nbformat_minor": 0,
  "metadata": {
    "colab": {
      "name": "Friends Recommendation.ipynb",
      "provenance": [],
      "collapsed_sections": []
    },
    "kernelspec": {
      "name": "python3",
      "display_name": "Python 3"
    }
  },
  "cells": [
    {
      "cell_type": "code",
      "metadata": {
        "id": "9PGMW0dAccEl",
        "colab_type": "code",
        "colab": {}
      },
      "source": [
        "import numpy as np\n",
        "import pandas as pd\n",
        "import matplotlib.pyplot as plt\n",
        "%matplotlib inline\n",
        "\n",
        "import seaborn as sns\n",
        "sns.set(style=\"darkgrid\")\n",
        "\n",
        "\n",
        "from pyspark.sql.functions import *\n",
        "from pyspark.sql.types import *\n",
        "\n",
        "\n",
        "\n",
        "import folium\n",
        "import html\n",
        "import pickle\n",
        "from pyspark import SparkContext\n",
        "from pyspark.sql import SQLContext\n",
        "from pyspark.sql.session import SparkSession"
      ],
      "execution_count": 0,
      "outputs": []
    },
    {
      "cell_type": "code",
      "metadata": {
        "id": "QxKwSsh1cqYl",
        "colab_type": "code",
        "outputId": "1740ff15-90aa-4d5d-a196-b17349e3093e",
        "colab": {
          "base_uri": "https://localhost:8080/",
          "height": 286
        }
      },
      "source": [
        "!java -version\n",
        "!sudo update-alternatives --config java\n",
        "!java -version"
      ],
      "execution_count": 0,
      "outputs": [
        {
          "output_type": "stream",
          "text": [
            "openjdk version \"11.0.4\" 2019-07-16\n",
            "OpenJDK Runtime Environment (build 11.0.4+11-post-Ubuntu-1ubuntu218.04.3)\n",
            "OpenJDK 64-Bit Server VM (build 11.0.4+11-post-Ubuntu-1ubuntu218.04.3, mixed mode, sharing)\n",
            "There are 2 choices for the alternative java (providing /usr/bin/java).\n",
            "\n",
            "  Selection    Path                                            Priority   Status\n",
            "------------------------------------------------------------\n",
            "* 0            /usr/lib/jvm/java-11-openjdk-amd64/bin/java      1111      auto mode\n",
            "  1            /usr/lib/jvm/java-11-openjdk-amd64/bin/java      1111      manual mode\n",
            "  2            /usr/lib/jvm/java-8-openjdk-amd64/jre/bin/java   1081      manual mode\n",
            "\n",
            "Press <enter> to keep the current choice[*], or type selection number: 2\n",
            "update-alternatives: using /usr/lib/jvm/java-8-openjdk-amd64/jre/bin/java to provide /usr/bin/java (java) in manual mode\n",
            "openjdk version \"1.8.0_222\"\n",
            "OpenJDK Runtime Environment (build 1.8.0_222-8u222-b10-1ubuntu1~18.04.1-b10)\n",
            "OpenJDK 64-Bit Server VM (build 25.222-b10, mixed mode)\n"
          ],
          "name": "stdout"
        }
      ]
    },
    {
      "cell_type": "code",
      "metadata": {
        "id": "UAWp7R2dcscx",
        "colab_type": "code",
        "outputId": "207ce1e2-0c2d-417f-92c4-7088a2ebcf92",
        "colab": {
          "base_uri": "https://localhost:8080/",
          "height": 121
        }
      },
      "source": [
        "from google.colab import drive\n",
        "drive.mount('/content/gdrive')"
      ],
      "execution_count": 0,
      "outputs": [
        {
          "output_type": "stream",
          "text": [
            "Go to this URL in a browser: https://accounts.google.com/o/oauth2/auth?client_id=947318989803-6bn6qk8qdgf4n4g3pfee6491hc0brc4i.apps.googleusercontent.com&redirect_uri=urn%3aietf%3awg%3aoauth%3a2.0%3aoob&response_type=code&scope=email%20https%3a%2f%2fwww.googleapis.com%2fauth%2fdocs.test%20https%3a%2f%2fwww.googleapis.com%2fauth%2fdrive%20https%3a%2f%2fwww.googleapis.com%2fauth%2fdrive.photos.readonly%20https%3a%2f%2fwww.googleapis.com%2fauth%2fpeopleapi.readonly\n",
            "\n",
            "Enter your authorization code:\n",
            "··········\n",
            "Mounted at /content/gdrive\n"
          ],
          "name": "stdout"
        }
      ]
    },
    {
      "cell_type": "code",
      "metadata": {
        "id": "inH4-LMSc1aW",
        "colab_type": "code",
        "colab": {}
      },
      "source": [
        "with open('gdrive/My Drive/Yelp Data/dfRestaurants.pickle', 'rb') as f:\n",
        "    df_business = pickle.load(f)"
      ],
      "execution_count": 0,
      "outputs": []
    },
    {
      "cell_type": "code",
      "metadata": {
        "id": "oFsIgr7sdAFU",
        "colab_type": "code",
        "colab": {}
      },
      "source": [
        "sc = SparkContext('local')\n",
        "spark = SparkSession(sc)"
      ],
      "execution_count": 0,
      "outputs": []
    },
    {
      "cell_type": "code",
      "metadata": {
        "id": "jVq8q97DdK8y",
        "colab_type": "code",
        "colab": {}
      },
      "source": [
        "df_business_spark = spark.createDataFrame(df_business)"
      ],
      "execution_count": 0,
      "outputs": []
    },
    {
      "cell_type": "code",
      "metadata": {
        "id": "CzBLyG6UdMkg",
        "colab_type": "code",
        "colab": {}
      },
      "source": [
        "users_df = pd.read_csv('gdrive/My Drive/Yelp Data/yelp_user.csv')"
      ],
      "execution_count": 0,
      "outputs": []
    },
    {
      "cell_type": "code",
      "metadata": {
        "id": "YsUr-ldwd__B",
        "colab_type": "code",
        "colab": {}
      },
      "source": [
        "users_df = users_df.drop(columns = ['review_count','average_stars','name','yelping_since','useful','funny','cool','fans','elite','compliment_hot','compliment_more','compliment_profile','compliment_cute','compliment_list','compliment_note','compliment_plain','compliment_funny','compliment_cool','compliment_writer','compliment_photos',])"
      ],
      "execution_count": 0,
      "outputs": []
    },
    {
      "cell_type": "code",
      "metadata": {
        "id": "2w_GDrZEe9qG",
        "colab_type": "code",
        "colab": {}
      },
      "source": [
        "users_df = users_df.mask(users_df.eq('None')).dropna()\n"
      ],
      "execution_count": 0,
      "outputs": []
    },
    {
      "cell_type": "code",
      "metadata": {
        "id": "iqCL7YbxhzB1",
        "colab_type": "code",
        "outputId": "7795cf31-5d0b-421e-9e11-82a346d82190",
        "colab": {
          "base_uri": "https://localhost:8080/",
          "height": 402
        }
      },
      "source": [
        "users_df.sample(50000)"
      ],
      "execution_count": 0,
      "outputs": [
        {
          "output_type": "execute_result",
          "data": {
            "text/html": [
              "<div>\n",
              "<style scoped>\n",
              "    .dataframe tbody tr th:only-of-type {\n",
              "        vertical-align: middle;\n",
              "    }\n",
              "\n",
              "    .dataframe tbody tr th {\n",
              "        vertical-align: top;\n",
              "    }\n",
              "\n",
              "    .dataframe thead th {\n",
              "        text-align: right;\n",
              "    }\n",
              "</style>\n",
              "<table border=\"1\" class=\"dataframe\">\n",
              "  <thead>\n",
              "    <tr style=\"text-align: right;\">\n",
              "      <th></th>\n",
              "      <th>user_id</th>\n",
              "      <th>friends</th>\n",
              "    </tr>\n",
              "  </thead>\n",
              "  <tbody>\n",
              "    <tr>\n",
              "      <th>31348</th>\n",
              "      <td>8gYdZVFSA94HopPEim4lFg</td>\n",
              "      <td>tl8eYxepwIGpmJeZgDz2SQ, q0nrt3fePvXJQFM4ykGYqg</td>\n",
              "    </tr>\n",
              "    <tr>\n",
              "      <th>435251</th>\n",
              "      <td>M59WtfQKPkDIHqTZ3HNq7w</td>\n",
              "      <td>UiE3CZNJvJsjUgjJtShDcQ, C8UaHvbFLpi6u887QI_bFg...</td>\n",
              "    </tr>\n",
              "    <tr>\n",
              "      <th>679642</th>\n",
              "      <td>Bz192TbD61n5pVc76b8pLA</td>\n",
              "      <td>oRU6APpVlLFlAGpwrJKs0g, 03iMNggjXP2tOkfih15ccA...</td>\n",
              "    </tr>\n",
              "    <tr>\n",
              "      <th>1066469</th>\n",
              "      <td>Jd4auX83JlwWsvxlOp17jQ</td>\n",
              "      <td>RUO46LMpc9Nodz3lQViVTw, GwbbCmGsLmyp7mjtNVWg6Q...</td>\n",
              "    </tr>\n",
              "    <tr>\n",
              "      <th>328416</th>\n",
              "      <td>o3yE9gLnRVog48fKnUTyCQ</td>\n",
              "      <td>HkfoTQhGp5Jepw8hjqODGw, IrdHOSUP_Lyvp1-h4ZOByw...</td>\n",
              "    </tr>\n",
              "    <tr>\n",
              "      <th>...</th>\n",
              "      <td>...</td>\n",
              "      <td>...</td>\n",
              "    </tr>\n",
              "    <tr>\n",
              "      <th>1786</th>\n",
              "      <td>TA8lMiUg95s2cveylmdVew</td>\n",
              "      <td>iaoVfssac6w3vE4Mt7ZYbA, ZybmFQk5r7er6AkTJGkAlQ...</td>\n",
              "    </tr>\n",
              "    <tr>\n",
              "      <th>409935</th>\n",
              "      <td>SD35oARo4MJoYO4_AVRXCg</td>\n",
              "      <td>TiZ1j7NuJgqtgUPB29NbPg, kHAgdAPmzY7rNekrFFNLBQ...</td>\n",
              "    </tr>\n",
              "    <tr>\n",
              "      <th>488292</th>\n",
              "      <td>Wy_X5_1YWSx1kcr3qv9Hrw</td>\n",
              "      <td>n6TKnAIGZPHgWLBbA-UV5g, F2Xxkh_AvLnnMi9W_rgprw...</td>\n",
              "    </tr>\n",
              "    <tr>\n",
              "      <th>1138359</th>\n",
              "      <td>Qg_usUtNQzSxV8-noF6Sew</td>\n",
              "      <td>jVLK7q2AYMmrwb2KA5aetA, L-g_wc7WJdJ-dMFiQrPp8A...</td>\n",
              "    </tr>\n",
              "    <tr>\n",
              "      <th>473142</th>\n",
              "      <td>94DXxFlV74WEfGmI_RWNtA</td>\n",
              "      <td>3jGR71V807-OnUgp2Ll87w</td>\n",
              "    </tr>\n",
              "  </tbody>\n",
              "</table>\n",
              "<p>50000 rows × 2 columns</p>\n",
              "</div>"
            ],
            "text/plain": [
              "                        user_id                                            friends\n",
              "31348    8gYdZVFSA94HopPEim4lFg     tl8eYxepwIGpmJeZgDz2SQ, q0nrt3fePvXJQFM4ykGYqg\n",
              "435251   M59WtfQKPkDIHqTZ3HNq7w  UiE3CZNJvJsjUgjJtShDcQ, C8UaHvbFLpi6u887QI_bFg...\n",
              "679642   Bz192TbD61n5pVc76b8pLA  oRU6APpVlLFlAGpwrJKs0g, 03iMNggjXP2tOkfih15ccA...\n",
              "1066469  Jd4auX83JlwWsvxlOp17jQ  RUO46LMpc9Nodz3lQViVTw, GwbbCmGsLmyp7mjtNVWg6Q...\n",
              "328416   o3yE9gLnRVog48fKnUTyCQ  HkfoTQhGp5Jepw8hjqODGw, IrdHOSUP_Lyvp1-h4ZOByw...\n",
              "...                         ...                                                ...\n",
              "1786     TA8lMiUg95s2cveylmdVew  iaoVfssac6w3vE4Mt7ZYbA, ZybmFQk5r7er6AkTJGkAlQ...\n",
              "409935   SD35oARo4MJoYO4_AVRXCg  TiZ1j7NuJgqtgUPB29NbPg, kHAgdAPmzY7rNekrFFNLBQ...\n",
              "488292   Wy_X5_1YWSx1kcr3qv9Hrw  n6TKnAIGZPHgWLBbA-UV5g, F2Xxkh_AvLnnMi9W_rgprw...\n",
              "1138359  Qg_usUtNQzSxV8-noF6Sew  jVLK7q2AYMmrwb2KA5aetA, L-g_wc7WJdJ-dMFiQrPp8A...\n",
              "473142   94DXxFlV74WEfGmI_RWNtA                             3jGR71V807-OnUgp2Ll87w\n",
              "\n",
              "[50000 rows x 2 columns]"
            ]
          },
          "metadata": {
            "tags": []
          },
          "execution_count": 27
        }
      ]
    },
    {
      "cell_type": "code",
      "metadata": {
        "id": "3lH0denzdrjc",
        "colab_type": "code",
        "colab": {}
      },
      "source": [
        "df_users_spark = spark.createDataFrame(users_df)"
      ],
      "execution_count": 0,
      "outputs": []
    },
    {
      "cell_type": "code",
      "metadata": {
        "id": "7wV7cqNGhazE",
        "colab_type": "code",
        "outputId": "a217f64f-5c67-475e-e5d5-759195c58af4",
        "colab": {
          "base_uri": "https://localhost:8080/",
          "height": 402
        }
      },
      "source": [
        "u_id = 'uxKSnOVAoEj4I6X9YhLBlg'\n",
        "\n",
        "query = \"\"\"\n",
        "select business_id, count(*) as 4_5_stars_count \n",
        "from reviews\n",
        "where user_id in\n",
        "    (select f.friend_id from friends f\n",
        "    inner join users u on f.friend_id = u.user_id\n",
        "    where f.user_id = \"{}\") \n",
        "and stars >= 4 \n",
        "and business_id not in (select business_id from reviews where user_id = \"{}\")\n",
        "group by business_id\n",
        "order by count(*) desc limit 100\n",
        "\"\"\".format(u_id, u_id)\n",
        "\n",
        "friend_recoms_df = sqlContext.sql(query)\n",
        "\n",
        "friend_recoms_df.toPandas()"
      ],
      "execution_count": 0,
      "outputs": [
        {
          "output_type": "execute_result",
          "data": {
            "text/html": [
              "<div>\n",
              "<style scoped>\n",
              "    .dataframe tbody tr th:only-of-type {\n",
              "        vertical-align: middle;\n",
              "    }\n",
              "\n",
              "    .dataframe tbody tr th {\n",
              "        vertical-align: top;\n",
              "    }\n",
              "\n",
              "    .dataframe thead th {\n",
              "        text-align: right;\n",
              "    }\n",
              "</style>\n",
              "<table border=\"1\" class=\"dataframe\">\n",
              "  <thead>\n",
              "    <tr style=\"text-align: right;\">\n",
              "      <th></th>\n",
              "      <th>business_id</th>\n",
              "      <th>4_5_stars_count</th>\n",
              "    </tr>\n",
              "  </thead>\n",
              "  <tbody>\n",
              "    <tr>\n",
              "      <th>15</th>\n",
              "      <td>l09JfMeQ6ynYs5MCJtrcmQ</td>\n",
              "      <td>4</td>\n",
              "    </tr>\n",
              "    <tr>\n",
              "      <th>25</th>\n",
              "      <td>1K4qrnfyzKzGgJPBEcJaNQ</td>\n",
              "      <td>5</td>\n",
              "    </tr>\n",
              "    <tr>\n",
              "      <th>96</th>\n",
              "      <td>dTWfATVrBfKj7Vdn0qWVWg</td>\n",
              "      <td>4</td>\n",
              "    </tr>\n",
              "    <tr>\n",
              "      <th>104</th>\n",
              "      <td>1nhf9BPXOBFBkbRkpsFaxA</td>\n",
              "      <td>4</td>\n",
              "    </tr>\n",
              "    <tr>\n",
              "      <th>113</th>\n",
              "      <td>sJ0MYSAIVK28cMzh-s-NPA</td>\n",
              "      <td>5</td>\n",
              "    </tr>\n",
              "    <tr>\n",
              "      <th>...</th>\n",
              "      <td>...</td>\n",
              "      <td>...</td>\n",
              "    </tr>\n",
              "    <tr>\n",
              "      <th>174507</th>\n",
              "      <td>3zIy2T1bRwxvK-dRmopS_g</td>\n",
              "      <td>4</td>\n",
              "    </tr>\n",
              "    <tr>\n",
              "      <th>174518</th>\n",
              "      <td>sEAKw3MZkER1u_1fzIeD3g</td>\n",
              "      <td>5</td>\n",
              "    </tr>\n",
              "    <tr>\n",
              "      <th>174519</th>\n",
              "      <td>1HplwLVbBid-Bgw1sEPGFg</td>\n",
              "      <td>4</td>\n",
              "    </tr>\n",
              "    <tr>\n",
              "      <th>174536</th>\n",
              "      <td>xqNpOnxY0XzdnUE4sjmg0w</td>\n",
              "      <td>4</td>\n",
              "    </tr>\n",
              "    <tr>\n",
              "      <th>174543</th>\n",
              "      <td>SvW3WsatQWvR8c1iwAD_QA</td>\n",
              "      <td>4</td>\n",
              "    </tr>\n",
              "  </tbody>\n",
              "</table>\n",
              "<p>5875 rows × 2 columns</p>\n",
              "</div>"
            ],
            "text/plain": [
              "                   business_id  4_5_stars_count\n",
              "15      l09JfMeQ6ynYs5MCJtrcmQ                4\n",
              "25      1K4qrnfyzKzGgJPBEcJaNQ                5\n",
              "96      dTWfATVrBfKj7Vdn0qWVWg                4\n",
              "104     1nhf9BPXOBFBkbRkpsFaxA                4\n",
              "113     sJ0MYSAIVK28cMzh-s-NPA                5\n",
              "...                        ...              ...\n",
              "174507  3zIy2T1bRwxvK-dRmopS_g                4\n",
              "174518  sEAKw3MZkER1u_1fzIeD3g                5\n",
              "174519  1HplwLVbBid-Bgw1sEPGFg                4\n",
              "174536  xqNpOnxY0XzdnUE4sjmg0w                4\n",
              "174543  SvW3WsatQWvR8c1iwAD_QA                4\n",
              "\n",
              "[5875 rows x 2 columns]"
            ]
          },
          "metadata": {
            "tags": []
          },
          "execution_count": 35
        }
      ]
    },
    {
      "cell_type": "code",
      "metadata": {
        "id": "GtNiESLri-tH",
        "colab_type": "code",
        "colab": {}
      },
      "source": [
        ""
      ],
      "execution_count": 0,
      "outputs": []
    }
  ]
}