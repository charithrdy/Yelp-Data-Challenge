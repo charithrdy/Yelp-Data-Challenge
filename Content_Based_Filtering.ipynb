{
  "nbformat": 4,
  "nbformat_minor": 0,
  "metadata": {
    "colab": {
      "name": "Content Based Filtering.ipynb",
      "provenance": [],
      "collapsed_sections": []
    },
    "kernelspec": {
      "name": "python3",
      "display_name": "Python 3"
    },
    "accelerator": "GPU"
  },
  "cells": [
    {
      "cell_type": "code",
      "metadata": {
        "id": "T1cxfvKiwnJi",
        "colab_type": "code",
        "outputId": "a46e8291-6e29-4e1e-f227-d3010b05638f",
        "colab": {
          "base_uri": "https://localhost:8080/",
          "height": 235
        }
      },
      "source": [
        "!pip install pyspark"
      ],
      "execution_count": 0,
      "outputs": [
        {
          "output_type": "stream",
          "text": [
            "Collecting pyspark\n",
            "\u001b[?25l  Downloading https://files.pythonhosted.org/packages/87/21/f05c186f4ddb01d15d0ddc36ef4b7e3cedbeb6412274a41f26b55a650ee5/pyspark-2.4.4.tar.gz (215.7MB)\n",
            "\u001b[K     |████████████████████████████████| 215.7MB 63kB/s \n",
            "\u001b[?25hCollecting py4j==0.10.7\n",
            "\u001b[?25l  Downloading https://files.pythonhosted.org/packages/e3/53/c737818eb9a7dc32a7cd4f1396e787bd94200c3997c72c1dbe028587bd76/py4j-0.10.7-py2.py3-none-any.whl (197kB)\n",
            "\u001b[K     |████████████████████████████████| 204kB 52.5MB/s \n",
            "\u001b[?25hBuilding wheels for collected packages: pyspark\n",
            "  Building wheel for pyspark (setup.py) ... \u001b[?25l\u001b[?25hdone\n",
            "  Created wheel for pyspark: filename=pyspark-2.4.4-py2.py3-none-any.whl size=216130387 sha256=7705ce92694f2f4773a9d75f76fdda5591310da17ca49e7b077703c143a6ce06\n",
            "  Stored in directory: /root/.cache/pip/wheels/ab/09/4d/0d184230058e654eb1b04467dbc1292f00eaa186544604b471\n",
            "Successfully built pyspark\n",
            "Installing collected packages: py4j, pyspark\n",
            "Successfully installed py4j-0.10.7 pyspark-2.4.4\n"
          ],
          "name": "stdout"
        }
      ]
    },
    {
      "cell_type": "code",
      "metadata": {
        "id": "I8RZgt53wwCx",
        "colab_type": "code",
        "outputId": "13808207-52ac-417c-e091-ff3d020bcfe4",
        "colab": {
          "base_uri": "https://localhost:8080/",
          "height": 286
        }
      },
      "source": [
        "!java -version\n",
        "!sudo update-alternatives --config java\n",
        "!java -version"
      ],
      "execution_count": 0,
      "outputs": [
        {
          "output_type": "stream",
          "text": [
            "openjdk version \"11.0.4\" 2019-07-16\n",
            "OpenJDK Runtime Environment (build 11.0.4+11-post-Ubuntu-1ubuntu218.04.3)\n",
            "OpenJDK 64-Bit Server VM (build 11.0.4+11-post-Ubuntu-1ubuntu218.04.3, mixed mode, sharing)\n",
            "There are 2 choices for the alternative java (providing /usr/bin/java).\n",
            "\n",
            "  Selection    Path                                            Priority   Status\n",
            "------------------------------------------------------------\n",
            "* 0            /usr/lib/jvm/java-11-openjdk-amd64/bin/java      1111      auto mode\n",
            "  1            /usr/lib/jvm/java-11-openjdk-amd64/bin/java      1111      manual mode\n",
            "  2            /usr/lib/jvm/java-8-openjdk-amd64/jre/bin/java   1081      manual mode\n",
            "\n",
            "Press <enter> to keep the current choice[*], or type selection number: 2\n",
            "update-alternatives: using /usr/lib/jvm/java-8-openjdk-amd64/jre/bin/java to provide /usr/bin/java (java) in manual mode\n",
            "openjdk version \"1.8.0_222\"\n",
            "OpenJDK Runtime Environment (build 1.8.0_222-8u222-b10-1ubuntu1~18.04.1-b10)\n",
            "OpenJDK 64-Bit Server VM (build 25.222-b10, mixed mode)\n"
          ],
          "name": "stdout"
        }
      ]
    },
    {
      "cell_type": "code",
      "metadata": {
        "id": "mEkVZC-lw_K_",
        "colab_type": "code",
        "colab": {}
      },
      "source": [
        "import numpy as np\n",
        "import pandas as pd\n",
        "\n",
        "from operator import add\n",
        "from pyspark.ml.feature import RegexTokenizer, CountVectorizer\n",
        "from pyspark.ml.feature import StopWordsRemover, VectorAssembler\n",
        "from pyspark.ml.feature import Word2Vec, Word2VecModel\n",
        "from pyspark.ml.feature import IDF\n",
        "\n",
        "from pyspark.ml import Pipeline, PipelineModel\n",
        "\n",
        "\n",
        "from pyspark.sql.functions import *\n",
        "\n",
        "from pyspark.sql.types import *\n",
        "\n",
        "import folium\n",
        "import html\n",
        "import pickle\n",
        "from pyspark import SparkContext\n",
        "from pyspark.sql import SQLContext\n",
        "from pyspark.sql.session import SparkSession"
      ],
      "execution_count": 0,
      "outputs": []
    },
    {
      "cell_type": "code",
      "metadata": {
        "id": "AfbNWP5OxYeZ",
        "colab_type": "code",
        "outputId": "d214ad66-18e1-4018-eaa0-06d965ef09dc",
        "colab": {
          "base_uri": "https://localhost:8080/",
          "height": 121
        }
      },
      "source": [
        "from google.colab import drive\n",
        "drive.mount('/content/gdrive')"
      ],
      "execution_count": 0,
      "outputs": [
        {
          "output_type": "stream",
          "text": [
            "Go to this URL in a browser: https://accounts.google.com/o/oauth2/auth?client_id=947318989803-6bn6qk8qdgf4n4g3pfee6491hc0brc4i.apps.googleusercontent.com&redirect_uri=urn%3aietf%3awg%3aoauth%3a2.0%3aoob&response_type=code&scope=email%20https%3a%2f%2fwww.googleapis.com%2fauth%2fdocs.test%20https%3a%2f%2fwww.googleapis.com%2fauth%2fdrive%20https%3a%2f%2fwww.googleapis.com%2fauth%2fdrive.photos.readonly%20https%3a%2f%2fwww.googleapis.com%2fauth%2fpeopleapi.readonly\n",
            "\n",
            "Enter your authorization code:\n",
            "··········\n",
            "Mounted at /content/gdrive\n"
          ],
          "name": "stdout"
        }
      ]
    },
    {
      "cell_type": "code",
      "metadata": {
        "id": "0seUpjYjxOgH",
        "colab_type": "code",
        "colab": {}
      },
      "source": [
        "with open('gdrive/My Drive/Yelp Data/dfRestaurants.pickle', 'rb') as f:\n",
        "    df_business = pickle.load(f)"
      ],
      "execution_count": 0,
      "outputs": []
    },
    {
      "cell_type": "code",
      "metadata": {
        "id": "4JaUhaYSxUSu",
        "colab_type": "code",
        "colab": {}
      },
      "source": [
        "sc = SparkContext('local')\n",
        "spark = SparkSession(sc)"
      ],
      "execution_count": 0,
      "outputs": []
    },
    {
      "cell_type": "code",
      "metadata": {
        "id": "HORAAhnfxucj",
        "colab_type": "code",
        "colab": {}
      },
      "source": [
        "df_business_spark = spark.createDataFrame(df_business)"
      ],
      "execution_count": 0,
      "outputs": []
    },
    {
      "cell_type": "code",
      "metadata": {
        "id": "_SoTe_bXxxIC",
        "colab_type": "code",
        "outputId": "28426bd2-ffe5-49a5-f1cd-0565a23a4e75",
        "colab": {
          "base_uri": "https://localhost:8080/",
          "height": 269
        }
      },
      "source": [
        "df_business_spark.printSchema()"
      ],
      "execution_count": 0,
      "outputs": [
        {
          "output_type": "stream",
          "text": [
            "root\n",
            " |-- business_id: string (nullable = true)\n",
            " |-- name: string (nullable = true)\n",
            " |-- neighborhood: string (nullable = true)\n",
            " |-- address: string (nullable = true)\n",
            " |-- city: string (nullable = true)\n",
            " |-- state: string (nullable = true)\n",
            " |-- postal_code: string (nullable = true)\n",
            " |-- latitude: double (nullable = true)\n",
            " |-- longitude: double (nullable = true)\n",
            " |-- stars: double (nullable = true)\n",
            " |-- review_count: long (nullable = true)\n",
            " |-- is_open: long (nullable = true)\n",
            " |-- categories: string (nullable = true)\n",
            "\n"
          ],
          "name": "stdout"
        }
      ]
    },
    {
      "cell_type": "code",
      "metadata": {
        "id": "oaPFA77fxyx7",
        "colab_type": "code",
        "outputId": "4d547f74-c4c1-4f55-86ff-c48b3ed776cb",
        "colab": {
          "base_uri": "https://localhost:8080/",
          "height": 222
        }
      },
      "source": [
        "df_business_spark.show(5)"
      ],
      "execution_count": 0,
      "outputs": [
        {
          "output_type": "stream",
          "text": [
            "+--------------------+--------------------+------------------+--------------------+-------+-----+-----------+-----------------+------------------+-----+------------+-------+--------------------+\n",
            "|         business_id|                name|      neighborhood|             address|   city|state|postal_code|         latitude|         longitude|stars|review_count|is_open|          categories|\n",
            "+--------------------+--------------------+------------------+--------------------+-------+-----+-----------+-----------------+------------------+-----+------------+-------+--------------------+\n",
            "|l09JfMeQ6ynYs5MCJ...|    \"Alize Catering\"|Yonge and Eglinton|     \"2459 Yonge St\"|Toronto|   ON|    M4P 2H6|       43.7113993|       -79.3993388|  3.0|          12|      0|Italian;French;Re...|\n",
            "|1K4qrnfyzKzGgJPBE...|\"Chula Taberna Me...|       Leslieville|\"1058 Gerrard Str...|Toronto|   ON|    M4M 3A6|43.66925620000001|       -79.3359022|  3.5|          39|      1|Tiki Bars;Nightli...|\n",
            "|dTWfATVrBfKj7Vdn0...|    \"Flavor Cuisine\"|       Scarborough|\"8 Glen Watford D...|Toronto|   ON|    M1S 2C1|       43.7870613|       -79.2761657|  3.0|           6|      1|Restaurants;Chine...|\n",
            "|1nhf9BPXOBFBkbRkp...|\"Mirage Grill & L...|Yonge and Eglinton|\"117 Eglinton Ave...|Toronto|   ON|    M4P 1H4|       43.7074649|-79.39428520000001|  2.0|           6|      0|Breakfast & Brunc...|\n",
            "|sJ0MYSAIVK28cMzh-...|     \"Amaya Express\"|     Downtown Core|\"Eaton Centre, 22...|Toronto|   ON|    M5B 2L7|       43.6540667|-79.38008149999999|  2.5|          34|      1|Indian;Restaurant...|\n",
            "+--------------------+--------------------+------------------+--------------------+-------+-----+-----------+-----------------+------------------+-----+------------+-------+--------------------+\n",
            "only showing top 5 rows\n",
            "\n"
          ],
          "name": "stdout"
        }
      ]
    },
    {
      "cell_type": "code",
      "metadata": {
        "id": "IRXSLGXsx1Bg",
        "colab_type": "code",
        "colab": {}
      },
      "source": [
        "with open('gdrive/My Drive/Yelp Data/reviews_df.pickle', 'rb') as f:\n",
        "    df_reviews = pickle.load(f)"
      ],
      "execution_count": 0,
      "outputs": []
    },
    {
      "cell_type": "code",
      "metadata": {
        "id": "1z3aBwfibsGq",
        "colab_type": "code",
        "colab": {}
      },
      "source": [
        "df_reviews = df_reviews.sample(20000)"
      ],
      "execution_count": 0,
      "outputs": []
    },
    {
      "cell_type": "code",
      "metadata": {
        "id": "9AfPmwbccHHT",
        "colab_type": "code",
        "colab": {}
      },
      "source": [
        "user_concatreviews = df_reviews[['user_id', 'text']].groupby(['user_id'])['text'].apply(lambda x: ' '.join(x)).reset_index()"
      ],
      "execution_count": 0,
      "outputs": []
    },
    {
      "cell_type": "code",
      "metadata": {
        "id": "dCfg3-0MdVPU",
        "colab_type": "code",
        "outputId": "18777450-4ef5-4ba4-d10b-0aeed5109ec3",
        "colab": {
          "base_uri": "https://localhost:8080/",
          "height": 402
        }
      },
      "source": [
        "user_concatreviews"
      ],
      "execution_count": 0,
      "outputs": [
        {
          "output_type": "execute_result",
          "data": {
            "text/html": [
              "<div>\n",
              "<style scoped>\n",
              "    .dataframe tbody tr th:only-of-type {\n",
              "        vertical-align: middle;\n",
              "    }\n",
              "\n",
              "    .dataframe tbody tr th {\n",
              "        vertical-align: top;\n",
              "    }\n",
              "\n",
              "    .dataframe thead th {\n",
              "        text-align: right;\n",
              "    }\n",
              "</style>\n",
              "<table border=\"1\" class=\"dataframe\">\n",
              "  <thead>\n",
              "    <tr style=\"text-align: right;\">\n",
              "      <th></th>\n",
              "      <th>user_id</th>\n",
              "      <th>text</th>\n",
              "    </tr>\n",
              "  </thead>\n",
              "  <tbody>\n",
              "    <tr>\n",
              "      <th>0</th>\n",
              "      <td>---1lKK3aKOuomHnwAkAow</td>\n",
              "      <td>They host Delivering Happiness Inspire! and th...</td>\n",
              "    </tr>\n",
              "    <tr>\n",
              "      <th>1</th>\n",
              "      <td>--104qdWvE99vaoIsj9ZJQ</td>\n",
              "      <td>When you buy a couple of drinks and they taste...</td>\n",
              "    </tr>\n",
              "    <tr>\n",
              "      <th>2</th>\n",
              "      <td>--2vR0DIsmQ6WfcSzKWigw</td>\n",
              "      <td>Unser eher bescheidenes Motel war in der Nähe ...</td>\n",
              "    </tr>\n",
              "    <tr>\n",
              "      <th>3</th>\n",
              "      <td>--B1_68kNRRoT9k61Qlu3g</td>\n",
              "      <td>I love this salon. The staff is super knowledg...</td>\n",
              "    </tr>\n",
              "    <tr>\n",
              "      <th>4</th>\n",
              "      <td>-0S_XaK3Q_Mesal2Unta2w</td>\n",
              "      <td>Ty fun have the best Pad Thai I ever have,and ...</td>\n",
              "    </tr>\n",
              "    <tr>\n",
              "      <th>...</th>\n",
              "      <td>...</td>\n",
              "      <td>...</td>\n",
              "    </tr>\n",
              "    <tr>\n",
              "      <th>18651</th>\n",
              "      <td>zzDN7KhMfU5UPbTUSfYSyQ</td>\n",
              "      <td>John is the best... a very honest and reasonab...</td>\n",
              "    </tr>\n",
              "    <tr>\n",
              "      <th>18652</th>\n",
              "      <td>zzKA4xBV5sI5yBDo1XC0cw</td>\n",
              "      <td>THANK THE LORD FOR THE ABC STORE:\\n\\nAfter air...</td>\n",
              "    </tr>\n",
              "    <tr>\n",
              "      <th>18653</th>\n",
              "      <td>zzPvEodjvLPe-5NvV0U_cg</td>\n",
              "      <td>If you are shopping for an US def do not go to...</td>\n",
              "    </tr>\n",
              "    <tr>\n",
              "      <th>18654</th>\n",
              "      <td>zzUEa4doDSxQfzDUYkopJA</td>\n",
              "      <td>We have been to this restaurant about 4 times....</td>\n",
              "    </tr>\n",
              "    <tr>\n",
              "      <th>18655</th>\n",
              "      <td>zzgb9L3NBT9V8BGw_DcVYw</td>\n",
              "      <td>Oh. My. God. There are so many new incredible ...</td>\n",
              "    </tr>\n",
              "  </tbody>\n",
              "</table>\n",
              "<p>18656 rows × 2 columns</p>\n",
              "</div>"
            ],
            "text/plain": [
              "                      user_id                                               text\n",
              "0      ---1lKK3aKOuomHnwAkAow  They host Delivering Happiness Inspire! and th...\n",
              "1      --104qdWvE99vaoIsj9ZJQ  When you buy a couple of drinks and they taste...\n",
              "2      --2vR0DIsmQ6WfcSzKWigw  Unser eher bescheidenes Motel war in der Nähe ...\n",
              "3      --B1_68kNRRoT9k61Qlu3g  I love this salon. The staff is super knowledg...\n",
              "4      -0S_XaK3Q_Mesal2Unta2w  Ty fun have the best Pad Thai I ever have,and ...\n",
              "...                       ...                                                ...\n",
              "18651  zzDN7KhMfU5UPbTUSfYSyQ  John is the best... a very honest and reasonab...\n",
              "18652  zzKA4xBV5sI5yBDo1XC0cw  THANK THE LORD FOR THE ABC STORE:\\n\\nAfter air...\n",
              "18653  zzPvEodjvLPe-5NvV0U_cg  If you are shopping for an US def do not go to...\n",
              "18654  zzUEa4doDSxQfzDUYkopJA  We have been to this restaurant about 4 times....\n",
              "18655  zzgb9L3NBT9V8BGw_DcVYw  Oh. My. God. There are so many new incredible ...\n",
              "\n",
              "[18656 rows x 2 columns]"
            ]
          },
          "metadata": {
            "tags": []
          },
          "execution_count": 13
        }
      ]
    },
    {
      "cell_type": "code",
      "metadata": {
        "id": "euvBi4SAiLUV",
        "colab_type": "code",
        "colab": {}
      },
      "source": [
        "business_concatreviews = df_reviews[['business_id', 'text']].groupby(['business_id'])['text'].apply(lambda x: ' '.join(x)).reset_index()"
      ],
      "execution_count": 0,
      "outputs": []
    },
    {
      "cell_type": "code",
      "metadata": {
        "id": "7-0dRGisjmHB",
        "colab_type": "code",
        "outputId": "45e06435-57da-404a-b4a4-bb2ab1dab26d",
        "colab": {
          "base_uri": "https://localhost:8080/",
          "height": 402
        }
      },
      "source": [
        "business_concatreviews"
      ],
      "execution_count": 0,
      "outputs": [
        {
          "output_type": "execute_result",
          "data": {
            "text/html": [
              "<div>\n",
              "<style scoped>\n",
              "    .dataframe tbody tr th:only-of-type {\n",
              "        vertical-align: middle;\n",
              "    }\n",
              "\n",
              "    .dataframe tbody tr th {\n",
              "        vertical-align: top;\n",
              "    }\n",
              "\n",
              "    .dataframe thead th {\n",
              "        text-align: right;\n",
              "    }\n",
              "</style>\n",
              "<table border=\"1\" class=\"dataframe\">\n",
              "  <thead>\n",
              "    <tr style=\"text-align: right;\">\n",
              "      <th></th>\n",
              "      <th>business_id</th>\n",
              "      <th>text</th>\n",
              "    </tr>\n",
              "  </thead>\n",
              "  <tbody>\n",
              "    <tr>\n",
              "      <th>0</th>\n",
              "      <td>--9e1ONYQuAa-CB_Rrw7Tw</td>\n",
              "      <td>I did the 2012 Restaurant Week $30.12 lunch sp...</td>\n",
              "    </tr>\n",
              "    <tr>\n",
              "      <th>1</th>\n",
              "      <td>--KQsXc-clkO7oHRqGzSzg</td>\n",
              "      <td>I came here after Christmas with a friend who ...</td>\n",
              "    </tr>\n",
              "    <tr>\n",
              "      <th>2</th>\n",
              "      <td>--S62v0QgkqQaVUhFnNHrw</td>\n",
              "      <td>Went here this morning with my family as my pa...</td>\n",
              "    </tr>\n",
              "    <tr>\n",
              "      <th>3</th>\n",
              "      <td>--ab39IjZR_xUf81WyTyHg</td>\n",
              "      <td>I really , really, really wish the Mesa Riverv...</td>\n",
              "    </tr>\n",
              "    <tr>\n",
              "      <th>4</th>\n",
              "      <td>--cZ6Hhc9F7VkKXxHMVZSQ</td>\n",
              "      <td>My good was decent. The steak was good and my ...</td>\n",
              "    </tr>\n",
              "    <tr>\n",
              "      <th>...</th>\n",
              "      <td>...</td>\n",
              "      <td>...</td>\n",
              "    </tr>\n",
              "    <tr>\n",
              "      <th>14565</th>\n",
              "      <td>zx_xDVaVQlE3eDoFFENkow</td>\n",
              "      <td>I needed two iPhone 4s unlocked and an iPhone ...</td>\n",
              "    </tr>\n",
              "    <tr>\n",
              "      <th>14566</th>\n",
              "      <td>zy_NHTqtfSrfTGGPoqy4Mw</td>\n",
              "      <td>delicious daily specials, cheerful and tasty, ...</td>\n",
              "    </tr>\n",
              "    <tr>\n",
              "      <th>14567</th>\n",
              "      <td>zyf4e5p_4X2cNc_WPIiTbg</td>\n",
              "      <td>My daughter and I have been seeing Dr Lida Rao...</td>\n",
              "    </tr>\n",
              "    <tr>\n",
              "      <th>14568</th>\n",
              "      <td>zzTM2KyJkKomLDkl6rM4dQ</td>\n",
              "      <td>We've now had Mike out twice to fix some leaks...</td>\n",
              "    </tr>\n",
              "    <tr>\n",
              "      <th>14569</th>\n",
              "      <td>zzUj3ej4vm_DtvRxNvWDEw</td>\n",
              "      <td>A fantastic first time experience was had here...</td>\n",
              "    </tr>\n",
              "  </tbody>\n",
              "</table>\n",
              "<p>14570 rows × 2 columns</p>\n",
              "</div>"
            ],
            "text/plain": [
              "                  business_id                                               text\n",
              "0      --9e1ONYQuAa-CB_Rrw7Tw  I did the 2012 Restaurant Week $30.12 lunch sp...\n",
              "1      --KQsXc-clkO7oHRqGzSzg  I came here after Christmas with a friend who ...\n",
              "2      --S62v0QgkqQaVUhFnNHrw  Went here this morning with my family as my pa...\n",
              "3      --ab39IjZR_xUf81WyTyHg  I really , really, really wish the Mesa Riverv...\n",
              "4      --cZ6Hhc9F7VkKXxHMVZSQ  My good was decent. The steak was good and my ...\n",
              "...                       ...                                                ...\n",
              "14565  zx_xDVaVQlE3eDoFFENkow  I needed two iPhone 4s unlocked and an iPhone ...\n",
              "14566  zy_NHTqtfSrfTGGPoqy4Mw  delicious daily specials, cheerful and tasty, ...\n",
              "14567  zyf4e5p_4X2cNc_WPIiTbg  My daughter and I have been seeing Dr Lida Rao...\n",
              "14568  zzTM2KyJkKomLDkl6rM4dQ  We've now had Mike out twice to fix some leaks...\n",
              "14569  zzUj3ej4vm_DtvRxNvWDEw  A fantastic first time experience was had here...\n",
              "\n",
              "[14570 rows x 2 columns]"
            ]
          },
          "metadata": {
            "tags": []
          },
          "execution_count": 15
        }
      ]
    },
    {
      "cell_type": "code",
      "metadata": {
        "id": "gFmy3XJ7juP6",
        "colab_type": "code",
        "outputId": "21f562b7-bf7a-49ca-bac9-7eb010408fa5",
        "colab": {
          "base_uri": "https://localhost:8080/",
          "height": 50
        }
      },
      "source": [
        "import nltk\n",
        "nltk.download('stopwords')\n",
        "from nltk.corpus import stopwords\n",
        "from nltk.stem.snowball import SnowballStemmer\n",
        "stop = stopwords.words('english')\n",
        "stemmer = SnowballStemmer(\"english\")\n"
      ],
      "execution_count": 0,
      "outputs": [
        {
          "output_type": "stream",
          "text": [
            "[nltk_data] Downloading package stopwords to /root/nltk_data...\n",
            "[nltk_data]   Unzipping corpora/stopwords.zip.\n"
          ],
          "name": "stdout"
        }
      ]
    },
    {
      "cell_type": "code",
      "metadata": {
        "id": "0Qt_lcWMkMhZ",
        "colab_type": "code",
        "colab": {}
      },
      "source": [
        "business_concatreviews['nostop'] = business_concatreviews['text'].apply(lambda x: ' '.join([word for word in x.split() if word not in (stop)]))\n",
        "business_concatreviews['cleantext'] = business_concatreviews['nostop'].apply(lambda x: ' '.join([stemmer.stem(y) for y in x.split()]))\n",
        "business_concatreviews = business_concatreviews.drop(columns = ['text', 'nostop'])"
      ],
      "execution_count": 0,
      "outputs": []
    },
    {
      "cell_type": "code",
      "metadata": {
        "id": "knjAOtW0kpA6",
        "colab_type": "code",
        "colab": {}
      },
      "source": [
        "user_concatreviews['nostop'] = user_concatreviews['text'].apply(lambda x: ' '.join([word for word in x.split() if word not in (stop)]))\n",
        "user_concatreviews['cleantext'] = user_concatreviews['nostop'].apply(lambda x: ' '.join([stemmer.stem(y) for y in x.split()]))\n",
        "user_concatreviews = user_concatreviews.drop(columns = ['text', 'nostop'])"
      ],
      "execution_count": 0,
      "outputs": []
    },
    {
      "cell_type": "code",
      "metadata": {
        "id": "frxX0AXBmVsC",
        "colab_type": "code",
        "outputId": "a669cbd6-9dda-42fe-faed-5dc791a8bf81",
        "colab": {
          "base_uri": "https://localhost:8080/",
          "height": 402
        }
      },
      "source": [
        "user_concatreviews"
      ],
      "execution_count": 0,
      "outputs": [
        {
          "output_type": "execute_result",
          "data": {
            "text/html": [
              "<div>\n",
              "<style scoped>\n",
              "    .dataframe tbody tr th:only-of-type {\n",
              "        vertical-align: middle;\n",
              "    }\n",
              "\n",
              "    .dataframe tbody tr th {\n",
              "        vertical-align: top;\n",
              "    }\n",
              "\n",
              "    .dataframe thead th {\n",
              "        text-align: right;\n",
              "    }\n",
              "</style>\n",
              "<table border=\"1\" class=\"dataframe\">\n",
              "  <thead>\n",
              "    <tr style=\"text-align: right;\">\n",
              "      <th></th>\n",
              "      <th>user_id</th>\n",
              "      <th>cleantext</th>\n",
              "    </tr>\n",
              "  </thead>\n",
              "  <tbody>\n",
              "    <tr>\n",
              "      <th>0</th>\n",
              "      <td>---1lKK3aKOuomHnwAkAow</td>\n",
              "      <td>they host deliv happi inspire! enough get 5 st...</td>\n",
              "    </tr>\n",
              "    <tr>\n",
              "      <th>1</th>\n",
              "      <td>--104qdWvE99vaoIsj9ZJQ</td>\n",
              "      <td>when buy coupl drink tast like soda, know some...</td>\n",
              "    </tr>\n",
              "    <tr>\n",
              "      <th>2</th>\n",
              "      <td>--2vR0DIsmQ6WfcSzKWigw</td>\n",
              "      <td>unser eher bescheiden motel war der nähe des r...</td>\n",
              "    </tr>\n",
              "    <tr>\n",
              "      <th>3</th>\n",
              "      <td>--B1_68kNRRoT9k61Qlu3g</td>\n",
              "      <td>i love salon. the staff super knowledg helpful...</td>\n",
              "    </tr>\n",
              "    <tr>\n",
              "      <th>4</th>\n",
              "      <td>-0S_XaK3Q_Mesal2Unta2w</td>\n",
              "      <td>ty fun best pad thai i ever have,and curri goo...</td>\n",
              "    </tr>\n",
              "    <tr>\n",
              "      <th>...</th>\n",
              "      <td>...</td>\n",
              "      <td>...</td>\n",
              "    </tr>\n",
              "    <tr>\n",
              "      <th>18651</th>\n",
              "      <td>zzDN7KhMfU5UPbTUSfYSyQ</td>\n",
              "      <td>john best... honest reason guy. i would recomm...</td>\n",
              "    </tr>\n",
              "    <tr>\n",
              "      <th>18652</th>\n",
              "      <td>zzKA4xBV5sI5yBDo1XC0cw</td>\n",
              "      <td>thank the lord for the abc store: after airpor...</td>\n",
              "    </tr>\n",
              "    <tr>\n",
              "      <th>18653</th>\n",
              "      <td>zzPvEodjvLPe-5NvV0U_cg</td>\n",
              "      <td>if shop us def go miracl progress!! come here!...</td>\n",
              "    </tr>\n",
              "    <tr>\n",
              "      <th>18654</th>\n",
              "      <td>zzUEa4doDSxQfzDUYkopJA</td>\n",
              "      <td>we restaur 4 times. the food pretti good, staf...</td>\n",
              "    </tr>\n",
              "    <tr>\n",
              "      <th>18655</th>\n",
              "      <td>zzgb9L3NBT9V8BGw_DcVYw</td>\n",
              "      <td>oh. my. god. there mani new incred restaur mon...</td>\n",
              "    </tr>\n",
              "  </tbody>\n",
              "</table>\n",
              "<p>18656 rows × 2 columns</p>\n",
              "</div>"
            ],
            "text/plain": [
              "                      user_id                                          cleantext\n",
              "0      ---1lKK3aKOuomHnwAkAow  they host deliv happi inspire! enough get 5 st...\n",
              "1      --104qdWvE99vaoIsj9ZJQ  when buy coupl drink tast like soda, know some...\n",
              "2      --2vR0DIsmQ6WfcSzKWigw  unser eher bescheiden motel war der nähe des r...\n",
              "3      --B1_68kNRRoT9k61Qlu3g  i love salon. the staff super knowledg helpful...\n",
              "4      -0S_XaK3Q_Mesal2Unta2w  ty fun best pad thai i ever have,and curri goo...\n",
              "...                       ...                                                ...\n",
              "18651  zzDN7KhMfU5UPbTUSfYSyQ  john best... honest reason guy. i would recomm...\n",
              "18652  zzKA4xBV5sI5yBDo1XC0cw  thank the lord for the abc store: after airpor...\n",
              "18653  zzPvEodjvLPe-5NvV0U_cg  if shop us def go miracl progress!! come here!...\n",
              "18654  zzUEa4doDSxQfzDUYkopJA  we restaur 4 times. the food pretti good, staf...\n",
              "18655  zzgb9L3NBT9V8BGw_DcVYw  oh. my. god. there mani new incred restaur mon...\n",
              "\n",
              "[18656 rows x 2 columns]"
            ]
          },
          "metadata": {
            "tags": []
          },
          "execution_count": 19
        }
      ]
    },
    {
      "cell_type": "code",
      "metadata": {
        "id": "HQXIAXjbTF_x",
        "colab_type": "code",
        "colab": {}
      },
      "source": [
        "reviews_by_business_df = spark.createDataFrame(business_concatreviews)"
      ],
      "execution_count": 0,
      "outputs": []
    },
    {
      "cell_type": "code",
      "metadata": {
        "id": "stgu8BVOSayJ",
        "colab_type": "code",
        "colab": {}
      },
      "source": [
        "regexTokenizer = RegexTokenizer(gaps = False, pattern = '\\w+', inputCol = 'cleantext', outputCol = 'token')\n",
        "stopWordsRemover = StopWordsRemover(inputCol = 'token', outputCol = 'nostopwrd')\n",
        "countVectorizer = CountVectorizer(inputCol=\"nostopwrd\", outputCol=\"rawFeature\")\n",
        "iDF = IDF(inputCol=\"rawFeature\", outputCol=\"idf_vec\")\n",
        "word2Vec = Word2Vec(vectorSize = 100, minCount = 5, inputCol = 'nostopwrd', outputCol = 'word_vec', seed=123)\n",
        "vectorAssembler = VectorAssembler(inputCols=['idf_vec', 'word_vec'], outputCol='comb_vec')\n",
        "pipeline = Pipeline(stages=[regexTokenizer, stopWordsRemover, countVectorizer, iDF, word2Vec, vectorAssembler])\n",
        "\n",
        "# fit the model\n",
        "pipeline_mdl = pipeline.fit(reviews_by_business_df)\n",
        "\n",
        "#save the pipeline model\n",
        "pipeline_mdl.write().overwrite().save('pipe_txt')"
      ],
      "execution_count": 0,
      "outputs": []
    },
    {
      "cell_type": "code",
      "metadata": {
        "id": "M-ycDOspS0n3",
        "colab_type": "code",
        "colab": {}
      },
      "source": [
        "pipeline_mdl = PipelineModel.load('pipe_txt')\n"
      ],
      "execution_count": 0,
      "outputs": []
    },
    {
      "cell_type": "code",
      "metadata": {
        "id": "YPxrklt4Ty32",
        "colab_type": "code",
        "colab": {}
      },
      "source": [
        "reviews_by_business_trf_df = pipeline_mdl.transform(reviews_by_business_df)\n"
      ],
      "execution_count": 0,
      "outputs": []
    },
    {
      "cell_type": "code",
      "metadata": {
        "id": "_9tfMQjHT3id",
        "colab_type": "code",
        "outputId": "9941a649-9960-4839-d695-b0a7682b085f",
        "colab": {
          "base_uri": "https://localhost:8080/",
          "height": 286
        }
      },
      "source": [
        "reviews_by_business_trf_df.select( 'cleantext', 'nostopwrd', 'idf_vec', 'word_vec', 'comb_vec').show(10)\n"
      ],
      "execution_count": 0,
      "outputs": [
        {
          "output_type": "stream",
          "text": [
            "+--------------------+--------------------+--------------------+--------------------+--------------------+\n",
            "|           cleantext|           nostopwrd|             idf_vec|            word_vec|            comb_vec|\n",
            "+--------------------+--------------------+--------------------+--------------------+--------------------+\n",
            "|i 2012 restaur we...|[2012, restaur, w...|(38670,[1,2,3,4,5...|[0.00620139042982...|(38770,[1,2,3,4,5...|\n",
            "|i came christma f...|[came, christma, ...|(38670,[2,5,10,13...|[-0.0354065453426...|(38770,[2,5,10,13...|\n",
            "|went morn famili ...|[went, morn, fami...|(38670,[0,1,6,7,9...|[-0.0017148339824...|(38770,[0,1,6,7,9...|\n",
            "|i realli , really...|[realli, really, ...|(38670,[2,12,20,3...|[-0.0345313489987...|(38770,[2,12,20,3...|\n",
            "|my good decent. t...|[good, decent, st...|(38670,[2,4,14,62...|[-0.0429038314947...|(38770,[2,4,14,62...|\n",
            "|i shock star prev...|[shock, star, pre...|(38670,[2,16,19,2...|[0.02010906861687...|(38770,[2,16,19,2...|\n",
            "|best friend i wen...|[best, friend, we...|(38670,[0,1,2,3,5...|[0.01001338542091...|(38770,[0,1,2,3,5...|\n",
            "|i know read revie...|[know, read, revi...|(38670,[0,5,36,44...|[0.05286045067012...|(38770,[0,5,36,44...|\n",
            "|i say, shop cute ...|[say, shop, cute,...|(38670,[5,15,19,2...|[8.21797656035929...|(38770,[5,15,19,2...|\n",
            "|i would like ever...|[like, everyon, k...|(38670,[3,5,8,10,...|[-0.0118109291755...|(38770,[3,5,8,10,...|\n",
            "+--------------------+--------------------+--------------------+--------------------+--------------------+\n",
            "only showing top 10 rows\n",
            "\n"
          ],
          "name": "stdout"
        }
      ]
    },
    {
      "cell_type": "code",
      "metadata": {
        "id": "uvQXoccpT5rr",
        "colab_type": "code",
        "outputId": "17430d05-c1fa-4c60-b2ac-1f0b00529b72",
        "colab": {
          "base_uri": "https://localhost:8080/",
          "height": 218
        }
      },
      "source": [
        "reviews_by_business_trf_df.printSchema()\n"
      ],
      "execution_count": 0,
      "outputs": [
        {
          "output_type": "stream",
          "text": [
            "root\n",
            " |-- business_id: string (nullable = true)\n",
            " |-- cleantext: string (nullable = true)\n",
            " |-- token: array (nullable = true)\n",
            " |    |-- element: string (containsNull = true)\n",
            " |-- nostopwrd: array (nullable = true)\n",
            " |    |-- element: string (containsNull = true)\n",
            " |-- rawFeature: vector (nullable = true)\n",
            " |-- idf_vec: vector (nullable = true)\n",
            " |-- word_vec: vector (nullable = true)\n",
            " |-- comb_vec: vector (nullable = true)\n",
            "\n"
          ],
          "name": "stdout"
        }
      ]
    },
    {
      "cell_type": "code",
      "metadata": {
        "id": "UtyVad_kT9-P",
        "colab_type": "code",
        "colab": {}
      },
      "source": [
        "def CosineSim(vec1, vec2):\n",
        "    return np.dot(vec1, vec2) / np.sqrt(np.dot(vec1, vec1)) / np.sqrt(np.dot(vec2, vec2))"
      ],
      "execution_count": 0,
      "outputs": []
    },
    {
      "cell_type": "code",
      "metadata": {
        "id": "N_1pgHWLUAxM",
        "colab_type": "code",
        "colab": {}
      },
      "source": [
        "all_business_vecs = reviews_by_business_trf_df.select('business_id', 'word_vec').rdd.map(lambda x: (x[0], x[1])).collect()"
      ],
      "execution_count": 0,
      "outputs": []
    },
    {
      "cell_type": "code",
      "metadata": {
        "id": "7Jq7GWq1UE5s",
        "colab_type": "code",
        "outputId": "2899e132-8a36-416c-e159-739e9849873a",
        "colab": {
          "base_uri": "https://localhost:8080/",
          "height": 70
        }
      },
      "source": [
        "all_business_vecs[1]"
      ],
      "execution_count": 0,
      "outputs": [
        {
          "output_type": "execute_result",
          "data": {
            "text/plain": [
              "('--KQsXc-clkO7oHRqGzSzg',\n",
              " DenseVector([-0.0354, 0.0155, 0.0873, -0.0102, -0.0194, 0.0311, 0.0193, -0.0353, 0.0415, 0.0622, -0.0578, -0.0186, -0.0179, -0.0351, -0.0223, -0.021, 0.0047, 0.0781, -0.0122, 0.089, -0.0009, 0.005, 0.0012, 0.0182, -0.0229, 0.0225, -0.0586, 0.0194, 0.0113, 0.0439, -0.0353, -0.0265, -0.0417, -0.0068, -0.0099, -0.0575, -0.0094, 0.0231, 0.0243, -0.0132, -0.0122, -0.0692, 0.0101, -0.0009, -0.0241, 0.028, -0.0555, -0.0489, 0.0356, 0.0352, -0.0021, -0.0174, 0.0023, -0.0387, -0.0264, 0.0262, -0.0031, 0.0401, 0.0222, -0.0531, -0.0588, -0.0092, -0.019, 0.0073, 0.0434, -0.0124, 0.0042, -0.0601, -0.0114, 0.0071, 0.0302, 0.0332, -0.0151, -0.0099, -0.0154, 0.0272, 0.022, -0.0765, -0.066, 0.0331, -0.0255, -0.0251, -0.0412, -0.028, -0.0124, -0.0714, 0.0351, 0.0235, 0.0182, 0.0574, 0.0066, 0.0434, -0.0145, -0.0035, 0.028, 0.0041, 0.0423, 0.0316, -0.0098, 0.1174]))"
            ]
          },
          "metadata": {
            "tags": []
          },
          "execution_count": 33
        }
      ]
    },
    {
      "cell_type": "code",
      "metadata": {
        "id": "TrhTi1ZNUlQC",
        "colab_type": "code",
        "outputId": "795a021c-feec-4995-c011-324b8c842030",
        "colab": {
          "base_uri": "https://localhost:8080/",
          "height": 286
        }
      },
      "source": [
        "reviews_by_user_df = spark.createDataFrame(user_concatreviews)\n",
        "\n",
        "regexTokenizer = RegexTokenizer(gaps = False, pattern = '\\w+', inputCol = 'cleantext', outputCol = 'token')\n",
        "stopWordsRemover = StopWordsRemover(inputCol = 'token', outputCol = 'nostopwrd')\n",
        "countVectorizer = CountVectorizer(inputCol=\"nostopwrd\", outputCol=\"rawFeature\")\n",
        "iDF = IDF(inputCol=\"rawFeature\", outputCol=\"idf_vec\")\n",
        "word2Vec = Word2Vec(vectorSize = 100, minCount = 5, inputCol = 'nostopwrd', outputCol = 'word_vec', seed=123)\n",
        "vectorAssembler = VectorAssembler(inputCols=['idf_vec', 'word_vec'], outputCol='comb_vec')\n",
        "pipeline = Pipeline(stages=[regexTokenizer, stopWordsRemover, countVectorizer, iDF, word2Vec, vectorAssembler])\n",
        "\n",
        "# fit the model\n",
        "pipeline_mdl = pipeline.fit(reviews_by_user_df)\n",
        "\n",
        "#save the pipeline model\n",
        "pipeline_mdl.write().overwrite().save('pipe_txt')\n",
        "\n",
        "\n",
        "pipeline_mdl = PipelineModel.load('pipe_txt')\n",
        "\n",
        "reviews_by_user_trf_df = pipeline_mdl.transform(reviews_by_user_df)\n",
        "\n",
        "reviews_by_user_trf_df.select( 'cleantext', 'nostopwrd', 'idf_vec', 'word_vec', 'comb_vec').show(10)"
      ],
      "execution_count": 0,
      "outputs": [
        {
          "output_type": "stream",
          "text": [
            "+--------------------+--------------------+--------------------+--------------------+--------------------+\n",
            "|           cleantext|           nostopwrd|             idf_vec|            word_vec|            comb_vec|\n",
            "+--------------------+--------------------+--------------------+--------------------+--------------------+\n",
            "|they host deliv h...|[host, deliv, hap...|(38670,[6,12,24,5...|[-0.0324616729200...|(38770,[6,12,24,5...|\n",
            "|when buy coupl dr...|[buy, coupl, drin...|(38670,[5,8,13,17...|[-0.0655577084917...|(38770,[5,8,13,17...|\n",
            "|unser eher besche...|[unser, eher, bes...|(38670,[25,28,133...|[0.21976470758543...|(38770,[25,28,133...|\n",
            "|i love salon. the...|[love, salon, sta...|(38670,[16,32,116...|[-0.0284940421581...|(38770,[16,32,116...|\n",
            "|ty fun best pad t...|[ty, fun, best, p...|(38670,[2,15,28,6...|[0.06743504623882...|(38770,[2,15,28,6...|\n",
            "|i would like than...|[like, thank, mis...|(38670,[2,5,38,10...|[-0.0649818316675...|(38770,[2,5,38,10...|\n",
            "|scrumptious!! the...|[scrumptious, pot...|(38670,[0,1,5,6,1...|[-0.0082547519328...|(38770,[0,1,5,6,1...|\n",
            "|great guys, great...|[great, guys, gre...|(38670,[3,11,22,3...|[-0.1462635964206...|(38770,[3,11,22,3...|\n",
            "|the food deliciou...|[food, delicious,...|(38670,[1,6,16,17...|[0.06011871347824...|(38770,[1,6,16,17...|\n",
            "|i feel like sas a...|[feel, like, sas,...|(38670,[3,5,6,7,8...|[-0.0586444765195...|(38770,[3,5,6,7,8...|\n",
            "+--------------------+--------------------+--------------------+--------------------+--------------------+\n",
            "only showing top 10 rows\n",
            "\n"
          ],
          "name": "stdout"
        }
      ]
    },
    {
      "cell_type": "code",
      "metadata": {
        "id": "kgcapbz-Vkov",
        "colab_type": "code",
        "outputId": "de44857d-3df6-4f7e-9568-90ab2727f544",
        "colab": {
          "base_uri": "https://localhost:8080/",
          "height": 286
        }
      },
      "source": [
        "reviews_by_user_trf_df.select( 'user_id','cleantext', 'idf_vec', 'word_vec', 'comb_vec').show(10)"
      ],
      "execution_count": 0,
      "outputs": [
        {
          "output_type": "stream",
          "text": [
            "+--------------------+--------------------+--------------------+--------------------+--------------------+\n",
            "|             user_id|           cleantext|             idf_vec|            word_vec|            comb_vec|\n",
            "+--------------------+--------------------+--------------------+--------------------+--------------------+\n",
            "|---1lKK3aKOuomHnw...|they host deliv h...|(38670,[6,12,24,5...|[-0.0324616729200...|(38770,[6,12,24,5...|\n",
            "|--104qdWvE99vaoIs...|when buy coupl dr...|(38670,[5,8,13,17...|[-0.0655577084917...|(38770,[5,8,13,17...|\n",
            "|--2vR0DIsmQ6WfcSz...|unser eher besche...|(38670,[25,28,133...|[0.21976470758543...|(38770,[25,28,133...|\n",
            "|--B1_68kNRRoT9k61...|i love salon. the...|(38670,[16,32,116...|[-0.0284940421581...|(38770,[16,32,116...|\n",
            "|-0S_XaK3Q_Mesal2U...|ty fun best pad t...|(38670,[2,15,28,6...|[0.06743504623882...|(38770,[2,15,28,6...|\n",
            "|-1BYI0ft5KWoXQ_5u...|i would like than...|(38670,[2,5,38,10...|[-0.0649818316675...|(38770,[2,5,38,10...|\n",
            "|-1Grce7VmCft_uq79...|scrumptious!! the...|(38670,[0,1,5,6,1...|[-0.0082547519328...|(38770,[0,1,5,6,1...|\n",
            "|-1wzk43IZ5D9Ysu6k...|great guys, great...|(38670,[3,11,22,3...|[-0.1462635964206...|(38770,[3,11,22,3...|\n",
            "|-21J34Uorl8r934QE...|the food deliciou...|(38670,[1,6,16,17...|[0.06011871347824...|(38770,[1,6,16,17...|\n",
            "|-3Kq9ssSot4QizbPY...|i feel like sas a...|(38670,[3,5,6,7,8...|[-0.0586444765195...|(38770,[3,5,6,7,8...|\n",
            "+--------------------+--------------------+--------------------+--------------------+--------------------+\n",
            "only showing top 10 rows\n",
            "\n"
          ],
          "name": "stdout"
        }
      ]
    },
    {
      "cell_type": "code",
      "metadata": {
        "id": "zLr5Aj7FVw8U",
        "colab_type": "code",
        "colab": {}
      },
      "source": [
        "all_users_vecs = reviews_by_user_trf_df.select('user_id', 'word_vec').rdd.map(lambda x: (x[0], x[1])).collect()\n"
      ],
      "execution_count": 0,
      "outputs": []
    },
    {
      "cell_type": "code",
      "metadata": {
        "id": "YwDnxsLXV2Oi",
        "colab_type": "code",
        "outputId": "5211402c-ba25-49ad-cb7d-2d05fa610af3",
        "colab": {
          "base_uri": "https://localhost:8080/",
          "height": 34
        }
      },
      "source": [
        "all_users_vecs[0][0]"
      ],
      "execution_count": 0,
      "outputs": [
        {
          "output_type": "execute_result",
          "data": {
            "text/plain": [
              "'---1lKK3aKOuomHnwAkAow'"
            ]
          },
          "metadata": {
            "tags": []
          },
          "execution_count": 51
        }
      ]
    },
    {
      "cell_type": "code",
      "metadata": {
        "id": "WlXILJUqWvdC",
        "colab_type": "code",
        "outputId": "08daf042-4d28-460b-aa3a-d89539f9293f",
        "colab": {
          "base_uri": "https://localhost:8080/",
          "height": 54
        }
      },
      "source": [
        "all_users_vecs[0][1]"
      ],
      "execution_count": 0,
      "outputs": [
        {
          "output_type": "execute_result",
          "data": {
            "text/plain": [
              "DenseVector([-0.0325, -0.0192, 0.068, -0.0534, -0.083, 0.0324, -0.075, 0.0285, 0.089, 0.011, -0.0468, 0.001, 0.0152, 0.0246, 0.0218, 0.0109, 0.0612, -0.027, -0.0209, 0.1093, 0.0089, 0.0542, 0.0087, -0.0004, 0.0586, 0.0243, -0.0697, 0.1032, 0.0357, -0.0888, -0.0827, 0.0486, 0.0428, -0.0338, -0.0546, -0.015, 0.0757, 0.0553, -0.0, 0.0272, 0.0869, -0.0642, 0.0764, -0.0347, -0.0404, 0.0903, -0.0744, 0.0494, -0.007, -0.0474, 0.0231, 0.0591, -0.0421, -0.0533, 0.0722, 0.0065, -0.0342, 0.1038, 0.0118, 0.0043, -0.0154, -0.0016, -0.1196, 0.0088, -0.0832, -0.0449, -0.018, -0.0063, 0.0887, -0.0247, 0.0395, 0.0363, -0.0363, 0.0269, -0.0541, 0.0314, 0.0333, -0.0092, -0.0383, 0.0226, 0.0211, 0.0615, -0.0601, -0.0184, -0.0118, -0.0909, 0.0643, -0.0002, 0.0884, 0.0349, -0.0862, 0.053, 0.0338, -0.0113, 0.0298, 0.0762, -0.0577, 0.0579, -0.0581, -0.0404])"
            ]
          },
          "metadata": {
            "tags": []
          },
          "execution_count": 55
        }
      ]
    },
    {
      "cell_type": "code",
      "metadata": {
        "id": "dhyXXNVAXH4E",
        "colab_type": "code",
        "colab": {}
      },
      "source": [
        "for i in range(len(all_business_vecs)):\n",
        "  CosineSim(all_business_vecs[i][1], all_users_vecs[0][1])"
      ],
      "execution_count": 0,
      "outputs": []
    },
    {
      "cell_type": "code",
      "metadata": {
        "id": "k7IMcs4xX2Gz",
        "colab_type": "code",
        "colab": {}
      },
      "source": [
        ""
      ],
      "execution_count": 0,
      "outputs": []
    }
  ]
}