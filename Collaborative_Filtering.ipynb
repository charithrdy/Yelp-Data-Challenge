{
  "nbformat": 4,
  "nbformat_minor": 0,
  "metadata": {
    "colab": {
      "name": "Collaborative Filtering.ipynb",
      "provenance": [],
      "collapsed_sections": [],
      "machine_shape": "hm"
    },
    "kernelspec": {
      "name": "python3",
      "display_name": "Python 3"
    }
  },
  "cells": [
    {
      "cell_type": "code",
      "metadata": {
        "id": "1rg62VMhNekD",
        "colab_type": "code",
        "colab": {}
      },
      "source": [
        "import numpy as np\n",
        "import pandas as pd\n",
        "import matplotlib.pyplot as plt\n",
        "\n",
        "from pyspark.ml import Pipeline\n",
        "from pyspark.sql.functions import *\n",
        "from pyspark.sql.types import *\n",
        "\n",
        "\n",
        "from pyspark.sql import Row\n",
        "\n",
        "from pyspark.ml.recommendation import ALS, ALSModel\n",
        "from pyspark.ml.tuning import TrainValidationSplit, ParamGridBuilder, CrossValidator\n",
        "from pyspark.ml.evaluation import RegressionEvaluator\n",
        "\n",
        "import folium\n",
        "import html\n",
        "import pickle\n",
        "from pyspark import SparkContext\n",
        "from pyspark.sql import SQLContext\n",
        "from pyspark.sql.session import SparkSession"
      ],
      "execution_count": 0,
      "outputs": []
    },
    {
      "cell_type": "code",
      "metadata": {
        "id": "sXYmlKWqb7mL",
        "colab_type": "code",
        "outputId": "124c1ebb-67aa-4210-9433-5806285c0dba",
        "colab": {
          "base_uri": "https://localhost:8080/",
          "height": 34
        }
      },
      "source": [
        "from google.colab import drive\n",
        "drive.mount('/content/gdrive')"
      ],
      "execution_count": 0,
      "outputs": [
        {
          "output_type": "stream",
          "text": [
            "Drive already mounted at /content/gdrive; to attempt to forcibly remount, call drive.mount(\"/content/gdrive\", force_remount=True).\n"
          ],
          "name": "stdout"
        }
      ]
    },
    {
      "cell_type": "code",
      "metadata": {
        "id": "SPCQlVzcN4w1",
        "colab_type": "code",
        "colab": {}
      },
      "source": [
        "with open('gdrive/My Drive/Yelp Data/dfRestaurants.pickle', 'rb') as f:\n",
        "    df_business = pickle.load(f)"
      ],
      "execution_count": 0,
      "outputs": []
    },
    {
      "cell_type": "code",
      "metadata": {
        "id": "A7JvsySadVBD",
        "colab_type": "code",
        "colab": {}
      },
      "source": [
        "sc = SparkContext('local')\n",
        "spark = SparkSession(sc)"
      ],
      "execution_count": 0,
      "outputs": []
    },
    {
      "cell_type": "code",
      "metadata": {
        "id": "7mE3u5AWPGAc",
        "colab_type": "code",
        "colab": {}
      },
      "source": [
        "df_business_spark = spark.createDataFrame(df_business)"
      ],
      "execution_count": 0,
      "outputs": []
    },
    {
      "cell_type": "code",
      "metadata": {
        "id": "F7tT77rQdoWx",
        "colab_type": "code",
        "outputId": "858707ff-ceac-4dda-dec9-b268d07c2b0b",
        "colab": {
          "base_uri": "https://localhost:8080/",
          "height": 269
        }
      },
      "source": [
        "df_business_spark.printSchema()"
      ],
      "execution_count": 0,
      "outputs": [
        {
          "output_type": "stream",
          "text": [
            "root\n",
            " |-- business_id: string (nullable = true)\n",
            " |-- name: string (nullable = true)\n",
            " |-- neighborhood: string (nullable = true)\n",
            " |-- address: string (nullable = true)\n",
            " |-- city: string (nullable = true)\n",
            " |-- state: string (nullable = true)\n",
            " |-- postal_code: string (nullable = true)\n",
            " |-- latitude: double (nullable = true)\n",
            " |-- longitude: double (nullable = true)\n",
            " |-- stars: double (nullable = true)\n",
            " |-- review_count: long (nullable = true)\n",
            " |-- is_open: long (nullable = true)\n",
            " |-- categories: string (nullable = true)\n",
            "\n"
          ],
          "name": "stdout"
        }
      ]
    },
    {
      "cell_type": "code",
      "metadata": {
        "id": "AztMsp5LiyMe",
        "colab_type": "code",
        "outputId": "84d942ab-87f9-4c7d-fc93-b22acb6fd377",
        "colab": {
          "base_uri": "https://localhost:8080/",
          "height": 222
        }
      },
      "source": [
        "df_business_spark.show(5)"
      ],
      "execution_count": 0,
      "outputs": [
        {
          "output_type": "stream",
          "text": [
            "+--------------------+--------------------+------------------+--------------------+-------+-----+-----------+-----------------+------------------+-----+------------+-------+--------------------+\n",
            "|         business_id|                name|      neighborhood|             address|   city|state|postal_code|         latitude|         longitude|stars|review_count|is_open|          categories|\n",
            "+--------------------+--------------------+------------------+--------------------+-------+-----+-----------+-----------------+------------------+-----+------------+-------+--------------------+\n",
            "|l09JfMeQ6ynYs5MCJ...|    \"Alize Catering\"|Yonge and Eglinton|     \"2459 Yonge St\"|Toronto|   ON|    M4P 2H6|       43.7113993|       -79.3993388|  3.0|          12|      0|Italian;French;Re...|\n",
            "|1K4qrnfyzKzGgJPBE...|\"Chula Taberna Me...|       Leslieville|\"1058 Gerrard Str...|Toronto|   ON|    M4M 3A6|43.66925620000001|       -79.3359022|  3.5|          39|      1|Tiki Bars;Nightli...|\n",
            "|dTWfATVrBfKj7Vdn0...|    \"Flavor Cuisine\"|       Scarborough|\"8 Glen Watford D...|Toronto|   ON|    M1S 2C1|       43.7870613|       -79.2761657|  3.0|           6|      1|Restaurants;Chine...|\n",
            "|1nhf9BPXOBFBkbRkp...|\"Mirage Grill & L...|Yonge and Eglinton|\"117 Eglinton Ave...|Toronto|   ON|    M4P 1H4|       43.7074649|-79.39428520000001|  2.0|           6|      0|Breakfast & Brunc...|\n",
            "|sJ0MYSAIVK28cMzh-...|     \"Amaya Express\"|     Downtown Core|\"Eaton Centre, 22...|Toronto|   ON|    M5B 2L7|       43.6540667|-79.38008149999999|  2.5|          34|      1|Indian;Restaurant...|\n",
            "+--------------------+--------------------+------------------+--------------------+-------+-----+-----------+-----------------+------------------+-----+------------+-------+--------------------+\n",
            "only showing top 5 rows\n",
            "\n"
          ],
          "name": "stdout"
        }
      ]
    },
    {
      "cell_type": "code",
      "metadata": {
        "id": "e-jsACOFjkX3",
        "colab_type": "code",
        "colab": {}
      },
      "source": [
        "business_rdd = df_business_spark.rdd"
      ],
      "execution_count": 0,
      "outputs": []
    },
    {
      "cell_type": "code",
      "metadata": {
        "id": "K6O-WHtaj3bs",
        "colab_type": "code",
        "outputId": "a6c4ef64-deeb-47ea-f957-8ec503495bf8",
        "colab": {
          "base_uri": "https://localhost:8080/",
          "height": 70
        }
      },
      "source": [
        "business_rdd.take(2)\n"
      ],
      "execution_count": 0,
      "outputs": [
        {
          "output_type": "execute_result",
          "data": {
            "text/plain": [
              "[Row(business_id='l09JfMeQ6ynYs5MCJtrcmQ', name='\"Alize Catering\"', neighborhood='Yonge and Eglinton', address='\"2459 Yonge St\"', city='Toronto', state='ON', postal_code='M4P 2H6', latitude=43.7113993, longitude=-79.3993388, stars=3.0, review_count=12, is_open=0, categories='Italian;French;Restaurants'),\n",
              " Row(business_id='1K4qrnfyzKzGgJPBEcJaNQ', name='\"Chula Taberna Mexicana\"', neighborhood='Leslieville', address='\"1058 Gerrard Street E\"', city='Toronto', state='ON', postal_code='M4M 3A6', latitude=43.66925620000001, longitude=-79.3359022, stars=3.5, review_count=39, is_open=1, categories='Tiki Bars;Nightlife;Mexican;Restaurants;Bars')]"
            ]
          },
          "metadata": {
            "tags": []
          },
          "execution_count": 11
        }
      ]
    },
    {
      "cell_type": "code",
      "metadata": {
        "id": "Zr3O6LEkmS-6",
        "colab_type": "code",
        "colab": {}
      },
      "source": [
        "with open('gdrive/My Drive/Yelp Data/reviews_reduced_columns.pkl', 'rb') as f:\n",
        "    df_ratings = pickle.load(f)"
      ],
      "execution_count": 0,
      "outputs": []
    },
    {
      "cell_type": "code",
      "metadata": {
        "id": "Kv00h2dgqa8E",
        "colab_type": "code",
        "outputId": "71fa15b6-70ce-47d5-dd33-7b0581b1bdb1",
        "colab": {
          "base_uri": "https://localhost:8080/",
          "height": 402
        }
      },
      "source": [
        "df_ratings"
      ],
      "execution_count": 0,
      "outputs": [
        {
          "output_type": "execute_result",
          "data": {
            "text/html": [
              "<div>\n",
              "<style scoped>\n",
              "    .dataframe tbody tr th:only-of-type {\n",
              "        vertical-align: middle;\n",
              "    }\n",
              "\n",
              "    .dataframe tbody tr th {\n",
              "        vertical-align: top;\n",
              "    }\n",
              "\n",
              "    .dataframe thead th {\n",
              "        text-align: right;\n",
              "    }\n",
              "</style>\n",
              "<table border=\"1\" class=\"dataframe\">\n",
              "  <thead>\n",
              "    <tr style=\"text-align: right;\">\n",
              "      <th></th>\n",
              "      <th>review_id</th>\n",
              "      <th>user_id</th>\n",
              "      <th>business_id</th>\n",
              "      <th>stars</th>\n",
              "    </tr>\n",
              "  </thead>\n",
              "  <tbody>\n",
              "    <tr>\n",
              "      <th>0</th>\n",
              "      <td>vkVSCC7xljjrAI4UGfnKEQ</td>\n",
              "      <td>bv2nCi5Qv5vroFiqKGopiw</td>\n",
              "      <td>AEx2SYEUJmTxVVB18LlCwA</td>\n",
              "      <td>5</td>\n",
              "    </tr>\n",
              "    <tr>\n",
              "      <th>1</th>\n",
              "      <td>n6QzIUObkYshz4dz2QRJTw</td>\n",
              "      <td>bv2nCi5Qv5vroFiqKGopiw</td>\n",
              "      <td>VR6GpWIda3SfvPC-lg9H3w</td>\n",
              "      <td>5</td>\n",
              "    </tr>\n",
              "    <tr>\n",
              "      <th>2</th>\n",
              "      <td>MV3CcKScW05u5LVfF6ok0g</td>\n",
              "      <td>bv2nCi5Qv5vroFiqKGopiw</td>\n",
              "      <td>CKC0-MOWMqoeWf6s-szl8g</td>\n",
              "      <td>5</td>\n",
              "    </tr>\n",
              "    <tr>\n",
              "      <th>3</th>\n",
              "      <td>IXvOzsEMYtiJI0CARmj77Q</td>\n",
              "      <td>bv2nCi5Qv5vroFiqKGopiw</td>\n",
              "      <td>ACFtxLv8pGrrxMm6EgjreA</td>\n",
              "      <td>4</td>\n",
              "    </tr>\n",
              "    <tr>\n",
              "      <th>4</th>\n",
              "      <td>L_9BTb55X0GDtThi6GlZ6w</td>\n",
              "      <td>bv2nCi5Qv5vroFiqKGopiw</td>\n",
              "      <td>s2I_Ni76bjJNK9yG60iD-Q</td>\n",
              "      <td>4</td>\n",
              "    </tr>\n",
              "    <tr>\n",
              "      <th>...</th>\n",
              "      <td>...</td>\n",
              "      <td>...</td>\n",
              "      <td>...</td>\n",
              "      <td>...</td>\n",
              "    </tr>\n",
              "    <tr>\n",
              "      <th>5261663</th>\n",
              "      <td>PoGSiNz1X5SUu0qEt-qM5w</td>\n",
              "      <td>mPjPyipaD0C_myqWqDipZg</td>\n",
              "      <td>Ngk84Ax1tXgpoJFEGxot3w</td>\n",
              "      <td>1</td>\n",
              "    </tr>\n",
              "    <tr>\n",
              "      <th>5261664</th>\n",
              "      <td>-CJNPrDWgIkorx4iEZJXIg</td>\n",
              "      <td>mPjPyipaD0C_myqWqDipZg</td>\n",
              "      <td>pOEL97ld-FJMKO8Ki8JmYg</td>\n",
              "      <td>3</td>\n",
              "    </tr>\n",
              "    <tr>\n",
              "      <th>5261665</th>\n",
              "      <td>W9eVvOcpBvG6lpJPoJOxuA</td>\n",
              "      <td>mPjPyipaD0C_myqWqDipZg</td>\n",
              "      <td>5ubokMNw8qfbX2WtxgJG1Q</td>\n",
              "      <td>4</td>\n",
              "    </tr>\n",
              "    <tr>\n",
              "      <th>5261666</th>\n",
              "      <td>hqQ1UTFKMN2P1ezUow48OQ</td>\n",
              "      <td>mPjPyipaD0C_myqWqDipZg</td>\n",
              "      <td>EO3i5kTUG7_S2OIQ23sdSA</td>\n",
              "      <td>3</td>\n",
              "    </tr>\n",
              "    <tr>\n",
              "      <th>5261667</th>\n",
              "      <td>ldsIs3sGXPJ7WM7VyAm4lQ</td>\n",
              "      <td>mPjPyipaD0C_myqWqDipZg</td>\n",
              "      <td>HloEEXm_QzEpycuwA_RtQA</td>\n",
              "      <td>3</td>\n",
              "    </tr>\n",
              "  </tbody>\n",
              "</table>\n",
              "<p>5261668 rows × 4 columns</p>\n",
              "</div>"
            ],
            "text/plain": [
              "                      review_id  ... stars\n",
              "0        vkVSCC7xljjrAI4UGfnKEQ  ...     5\n",
              "1        n6QzIUObkYshz4dz2QRJTw  ...     5\n",
              "2        MV3CcKScW05u5LVfF6ok0g  ...     5\n",
              "3        IXvOzsEMYtiJI0CARmj77Q  ...     4\n",
              "4        L_9BTb55X0GDtThi6GlZ6w  ...     4\n",
              "...                         ...  ...   ...\n",
              "5261663  PoGSiNz1X5SUu0qEt-qM5w  ...     1\n",
              "5261664  -CJNPrDWgIkorx4iEZJXIg  ...     3\n",
              "5261665  W9eVvOcpBvG6lpJPoJOxuA  ...     4\n",
              "5261666  hqQ1UTFKMN2P1ezUow48OQ  ...     3\n",
              "5261667  ldsIs3sGXPJ7WM7VyAm4lQ  ...     3\n",
              "\n",
              "[5261668 rows x 4 columns]"
            ]
          },
          "metadata": {
            "tags": []
          },
          "execution_count": 13
        }
      ]
    },
    {
      "cell_type": "code",
      "metadata": {
        "id": "-iv5iZyuuMtH",
        "colab_type": "code",
        "colab": {}
      },
      "source": [
        "def get_clean_df(df, min_user_review = 30, min_res_review = 0, cols = ['user_id', 'business_id', 'stars']):\n",
        "    '''Cleans the df and gets rid of the unwanted cols and also allows to filter the user and business based on the min number of reviews received'''\n",
        "    df_new = df[cols]\n",
        "    df_new.dropna(axis = 0, how = 'any', inplace = True)\n",
        "    df_new[cols[1]+'_freq'] = df_new.groupby(cols[1])[cols[1]].transform('count')\n",
        "    df_clean = df_new[df_new[cols[1]+'_freq']>=min_res_review]\n",
        "    df_clean[cols[0]+'_freq'] = df_clean.groupby(cols[0])[cols[0]].transform('count')\n",
        "    df_clean_2 = df_clean[df_clean[cols[0]+'_freq']>=min_user_review]\n",
        "    return df_clean_2"
      ],
      "execution_count": 0,
      "outputs": []
    },
    {
      "cell_type": "code",
      "metadata": {
        "id": "Ybil1OwzwQSK",
        "colab_type": "code",
        "colab": {}
      },
      "source": [
        "def get_sparsity(sparse_matrix):\n",
        "    return 1 - sparse_matrix.nnz/(sparse_matrix.shape[0]*sparse_matrix.shape[1])"
      ],
      "execution_count": 0,
      "outputs": []
    },
    {
      "cell_type": "code",
      "metadata": {
        "id": "QuzF24NewkTk",
        "colab_type": "code",
        "outputId": "1f58b422-640d-40ef-efe1-e056059893a6",
        "colab": {
          "base_uri": "https://localhost:8080/",
          "height": 34
        }
      },
      "source": [
        "'''df_ratings_sparse = get_clean_df(df_ratings, min_user_review=30)'''"
      ],
      "execution_count": 0,
      "outputs": [
        {
          "output_type": "execute_result",
          "data": {
            "text/plain": [
              "'df_ratings_sparse = get_clean_df(df_ratings, min_user_review=30)'"
            ]
          },
          "metadata": {
            "tags": []
          },
          "execution_count": 16
        }
      ]
    },
    {
      "cell_type": "code",
      "metadata": {
        "id": "10v-B5Fpxagi",
        "colab_type": "code",
        "outputId": "7414b8b3-c991-4242-8864-17f35d39ec06",
        "colab": {
          "base_uri": "https://localhost:8080/",
          "height": 34
        }
      },
      "source": [
        "  '''df_ratings_sparse = df_ratings_sparse.sample(n=20000)'''"
      ],
      "execution_count": 0,
      "outputs": [
        {
          "output_type": "execute_result",
          "data": {
            "text/plain": [
              "'df_ratings_sparse = df_ratings_sparse.sample(n=20000)'"
            ]
          },
          "metadata": {
            "tags": []
          },
          "execution_count": 17
        }
      ]
    },
    {
      "cell_type": "code",
      "metadata": {
        "id": "FWopP6lZHQ5G",
        "colab_type": "code",
        "outputId": "341979a2-ec17-4e3f-82db-c11c864be49a",
        "colab": {
          "base_uri": "https://localhost:8080/",
          "height": 34
        }
      },
      "source": [
        "\n",
        "'''with open('gdrive/My Drive/Yelp Data/df_ratings_sparse.pkl', 'wb') as f:\n",
        "  pickle.dump(df_ratings_sparse, f)'''"
      ],
      "execution_count": 0,
      "outputs": [
        {
          "output_type": "execute_result",
          "data": {
            "text/plain": [
              "\"with open('gdrive/My Drive/Yelp Data/df_ratings_sparse.pkl', 'wb') as f:\\n  pickle.dump(df_ratings_sparse, f)\""
            ]
          },
          "metadata": {
            "tags": []
          },
          "execution_count": 18
        }
      ]
    },
    {
      "cell_type": "code",
      "metadata": {
        "id": "o9QkWmNeH3OZ",
        "colab_type": "code",
        "colab": {}
      },
      "source": [
        "with open('gdrive/My Drive/Yelp Data/df_ratings_sparse.pkl', 'rb') as f:\n",
        "    df_ratings_sparse = pickle.load(f)"
      ],
      "execution_count": 0,
      "outputs": []
    },
    {
      "cell_type": "code",
      "metadata": {
        "id": "NqlV3e35H9vK",
        "colab_type": "code",
        "outputId": "a1675558-db01-439f-ad0e-4a81f793d3d6",
        "colab": {
          "base_uri": "https://localhost:8080/",
          "height": 34
        }
      },
      "source": [
        "df_ratings_sparse.shape"
      ],
      "execution_count": 0,
      "outputs": [
        {
          "output_type": "execute_result",
          "data": {
            "text/plain": [
              "(20000, 5)"
            ]
          },
          "metadata": {
            "tags": []
          },
          "execution_count": 20
        }
      ]
    },
    {
      "cell_type": "code",
      "metadata": {
        "id": "NE76F8wAoAf2",
        "colab_type": "code",
        "colab": {}
      },
      "source": [
        "df_ratings_spark = spark.createDataFrame(df_ratings_sparse)"
      ],
      "execution_count": 0,
      "outputs": []
    },
    {
      "cell_type": "code",
      "metadata": {
        "id": "ULHrnJXGokP9",
        "colab_type": "code",
        "colab": {}
      },
      "source": [
        "#users_df = pd.read_csv('gdrive/My Drive/Yelp Data/yelp_user.csv')"
      ],
      "execution_count": 0,
      "outputs": []
    },
    {
      "cell_type": "code",
      "metadata": {
        "id": "XSffDrlxMn8J",
        "colab_type": "code",
        "colab": {}
      },
      "source": [
        "#users_df = users_df.drop(columns = ['review_count','friends','average_stars','name','yelping_since','useful','funny','cool','fans','elite','compliment_hot','compliment_more','compliment_profile','compliment_cute','compliment_list','compliment_note','compliment_plain','compliment_funny','compliment_cool','compliment_writer','compliment_photos',])"
      ],
      "execution_count": 0,
      "outputs": []
    },
    {
      "cell_type": "code",
      "metadata": {
        "id": "rLcK0eosN_hA",
        "colab_type": "code",
        "colab": {}
      },
      "source": [
        "#users_df.drop(columns=['review_count','friends','average_stars'])"
      ],
      "execution_count": 0,
      "outputs": []
    },
    {
      "cell_type": "code",
      "metadata": {
        "id": "uvEbFfjBNv1u",
        "colab_type": "code",
        "colab": {}
      },
      "source": [
        "'''with open('gdrive/My Drive/Yelp Data/df_users.pkl', 'wb') as f:\n",
        "  pickle.dump(users_df, f)'''"
      ],
      "execution_count": 0,
      "outputs": []
    },
    {
      "cell_type": "code",
      "metadata": {
        "id": "ho2luPxoIoUL",
        "colab_type": "code",
        "colab": {}
      },
      "source": [
        "with open('gdrive/My Drive/Yelp Data/df_users.pkl', 'rb') as f:\n",
        "    df_users = pickle.load(f)"
      ],
      "execution_count": 0,
      "outputs": []
    },
    {
      "cell_type": "code",
      "metadata": {
        "id": "qKafn6BZK7qC",
        "colab_type": "code",
        "outputId": "6811bd8a-626a-4e52-8ee6-c55a29aa38ee",
        "colab": {
          "base_uri": "https://localhost:8080/",
          "height": 118
        }
      },
      "source": [
        "df_users.info()"
      ],
      "execution_count": 0,
      "outputs": [
        {
          "output_type": "stream",
          "text": [
            "<class 'pandas.core.frame.DataFrame'>\n",
            "RangeIndex: 1326100 entries, 0 to 1326099\n",
            "Data columns (total 1 columns):\n",
            "user_id    1326100 non-null object\n",
            "dtypes: object(1)\n",
            "memory usage: 10.1+ MB\n"
          ],
          "name": "stdout"
        }
      ]
    },
    {
      "cell_type": "code",
      "metadata": {
        "id": "5Gt22GdlKOuQ",
        "colab_type": "code",
        "colab": {}
      },
      "source": [
        "df_users_spark = spark.createDataFrame(df_users)"
      ],
      "execution_count": 0,
      "outputs": []
    },
    {
      "cell_type": "code",
      "metadata": {
        "id": "cKofcVx4KcUU",
        "colab_type": "code",
        "outputId": "043dfb24-7ade-4ca0-97fc-a14f67bf4caa",
        "colab": {
          "base_uri": "https://localhost:8080/",
          "height": 151
        }
      },
      "source": [
        "user_newid_df = spark.createDataFrame(df_users_spark.rdd.map(lambda x: x[0]).zipWithIndex(), \\\n",
        "        StructType([StructField(\"user_id\", StringType(), True),StructField(\"userId\", IntegerType(), True)]))\n",
        "\n",
        "user_newid_df.show(2)"
      ],
      "execution_count": 0,
      "outputs": [
        {
          "output_type": "stream",
          "text": [
            "+--------------------+------+\n",
            "|             user_id|userId|\n",
            "+--------------------+------+\n",
            "|JJ-aSuM4pCFPdkfoZ...|     0|\n",
            "|uUzsFQn_6cXDh6rPN...|     1|\n",
            "+--------------------+------+\n",
            "only showing top 2 rows\n",
            "\n"
          ],
          "name": "stdout"
        }
      ]
    },
    {
      "cell_type": "code",
      "metadata": {
        "id": "qmNcLHWZQCv5",
        "colab_type": "code",
        "outputId": "61c2d025-b0ae-40e4-d888-820403b041a4",
        "colab": {
          "base_uri": "https://localhost:8080/",
          "height": 202
        }
      },
      "source": [
        "a = df_users_spark.alias(\"a\")\n",
        "b = user_newid_df.alias(\"b\")\n",
        "    \n",
        "user_new_df = a.join(b, col(\"a.user_id\") == col(\"b.user_id\"), 'inner') \\\n",
        "             .select([col('a.'+xx) for xx in a.columns] + [col('b.userId')])\n",
        "\n",
        "user_new_df.select('userId','user_id').show(5)"
      ],
      "execution_count": 0,
      "outputs": [
        {
          "output_type": "stream",
          "text": [
            "+-------+--------------------+\n",
            "| userId|             user_id|\n",
            "+-------+--------------------+\n",
            "| 545966|--CJT4d-S8UhwqHe0...|\n",
            "|1079599|-0Ji0nOyFe-4yo8BK...|\n",
            "|1278580|-0XPr1ilUAfp-yIXZ...|\n",
            "| 950379|-1KKYzibGPyUX-Mwk...|\n",
            "|1106539|-1zQA2f_syMAdA04P...|\n",
            "+-------+--------------------+\n",
            "only showing top 5 rows\n",
            "\n"
          ],
          "name": "stdout"
        }
      ]
    },
    {
      "cell_type": "code",
      "metadata": {
        "id": "iqiFfdX6Qk8r",
        "colab_type": "code",
        "outputId": "c8d97a36-8432-4c63-f91d-c9cbd0a1ffdb",
        "colab": {
          "base_uri": "https://localhost:8080/",
          "height": 202
        }
      },
      "source": [
        "business_newid_df = spark.createDataFrame(df_business_spark.rdd.map(lambda x: x[0]).zipWithIndex(), \\\n",
        "        StructType([StructField(\"business_id\", StringType(), True),StructField(\"businessId\", IntegerType(), True)]))\n",
        "\n",
        "business_newid_df.show(5)"
      ],
      "execution_count": 0,
      "outputs": [
        {
          "output_type": "stream",
          "text": [
            "+--------------------+----------+\n",
            "|         business_id|businessId|\n",
            "+--------------------+----------+\n",
            "|l09JfMeQ6ynYs5MCJ...|         0|\n",
            "|1K4qrnfyzKzGgJPBE...|         1|\n",
            "|dTWfATVrBfKj7Vdn0...|         2|\n",
            "|1nhf9BPXOBFBkbRkp...|         3|\n",
            "|sJ0MYSAIVK28cMzh-...|         4|\n",
            "+--------------------+----------+\n",
            "only showing top 5 rows\n",
            "\n"
          ],
          "name": "stdout"
        }
      ]
    },
    {
      "cell_type": "code",
      "metadata": {
        "id": "3B9EObLxQrvB",
        "colab_type": "code",
        "outputId": "bf3a8358-bb41-4bee-b2a7-c0a090435359",
        "colab": {
          "base_uri": "https://localhost:8080/",
          "height": 202
        }
      },
      "source": [
        "a = df_business_spark.alias(\"a\")\n",
        "b = business_newid_df.alias(\"b\")\n",
        "    \n",
        "business_new_df = a.join(b, col(\"a.business_id\") == col(\"b.business_id\"), 'inner') \\\n",
        "             .select([col('a.'+xx) for xx in a.columns] + [col('b.businessId')])\n",
        "\n",
        "business_new_df.select('businessId','business_id', 'name').show(5)"
      ],
      "execution_count": 0,
      "outputs": [
        {
          "output_type": "stream",
          "text": [
            "+----------+--------------------+--------------------+\n",
            "|businessId|         business_id|                name|\n",
            "+----------+--------------------+--------------------+\n",
            "|      4417|1RFIVcZYV77tGIwVV...|    \"More Than Pies\"|\n",
            "|      3002|2OFWvbHVwvnva7GxP...|\"Pam's Caribbean ...|\n",
            "|      1287|2vBo1wWJckBnGOHhx...|\"St. Louis Bar & ...|\n",
            "|       653|Be9hkCoOJZB7pUxvj...|\"Kebaberie Yorkvi...|\n",
            "|       642|CyQXHdumQvxKAkXgl...|        \"Number One\"|\n",
            "+----------+--------------------+--------------------+\n",
            "only showing top 5 rows\n",
            "\n"
          ],
          "name": "stdout"
        }
      ]
    },
    {
      "cell_type": "code",
      "metadata": {
        "id": "MQR9v4OEQ34k",
        "colab_type": "code",
        "outputId": "40f96e27-88cc-43be-942b-fd1a8b156890",
        "colab": {
          "base_uri": "https://localhost:8080/",
          "height": 286
        }
      },
      "source": [
        "review_df = df_ratings_spark.select('user_id', 'business_id', 'stars')\n",
        "\n",
        "\n",
        "# map the userId\n",
        "a = df_ratings_spark.alias(\"a\")\n",
        "b = user_newid_df.alias(\"b\")\n",
        "    \n",
        "review_userId_df = a.join(b, col(\"a.user_id\") == col(\"b.user_id\"), 'inner') \\\n",
        "                     .select([col('a.'+xx) for xx in a.columns] + [col('b.userId')])\n",
        "\n",
        "# map the businessId\n",
        "a = review_userId_df.alias(\"a\")\n",
        "b = business_newid_df.alias(\"b\")\n",
        "\n",
        "review_userId_businessId_df = a.join(b, col(\"a.business_id\") == col(\"b.business_id\"), 'inner') \\\n",
        "                         .select([col('a.'+xx) for xx in a.columns] + [col('b.businessId')])\n",
        "\n",
        "review_userId_businessId_df.show(10)"
      ],
      "execution_count": 0,
      "outputs": [
        {
          "output_type": "stream",
          "text": [
            "+--------------------+--------------------+-----+----------------+------------+------+----------+\n",
            "|             user_id|         business_id|stars|business_id_freq|user_id_freq|userId|businessId|\n",
            "+--------------------+--------------------+-----+----------------+------------+------+----------+\n",
            "|KOHvhD69T7rlnK7zK...|RtUvSWO_UZ8V3Wpj0...|    2|            1184|         112|488725|       322|\n",
            "|4TVcAVhnypLekIauJ...|RtUvSWO_UZ8V3Wpj0...|    5|            1184|          30|311736|       322|\n",
            "|SxMBY64n31UHPjxzI...|RtUvSWO_UZ8V3Wpj0...|    5|            1184|         293|583137|       322|\n",
            "|DKURijAmB5Xz8dHLo...|RtUvSWO_UZ8V3Wpj0...|    4|            1184|          52|231561|       322|\n",
            "|FREeRQtjdJU83AFtd...|RtUvSWO_UZ8V3Wpj0...|    4|            1184|         565|411995|       322|\n",
            "|HyXK2GNR9i4SWpLQG...|RtUvSWO_UZ8V3Wpj0...|    5|            1184|         277|842245|       322|\n",
            "|KyuznsYoqjSYxAK6j...|RtUvSWO_UZ8V3Wpj0...|    4|            1184|          35|747100|       322|\n",
            "|MFnXQb1R1IGLL_-W4...|RtUvSWO_UZ8V3Wpj0...|    3|            1184|         255|476157|       322|\n",
            "|0w03V5AjlO_EHnRRo...|_Wyo52ijeq3QgcmkI...|    4|              31|         188|963661|      2152|\n",
            "|K6i3CeTT5NCScDns4...|jOqh0eVjqtUOpZ9AZ...|    4|              42|          84|935280|      2837|\n",
            "+--------------------+--------------------+-----+----------------+------------+------+----------+\n",
            "only showing top 10 rows\n",
            "\n"
          ],
          "name": "stdout"
        }
      ]
    },
    {
      "cell_type": "code",
      "metadata": {
        "id": "NKi_42deRSYE",
        "colab_type": "code",
        "outputId": "9f7633b4-bf46-4113-f316-639353b414d1",
        "colab": {
          "base_uri": "https://localhost:8080/",
          "height": 370
        }
      },
      "source": [
        "rating_df = review_userId_businessId_df.select('userId', 'businessId', review_userId_businessId_df.stars.cast('float').alias('rating'))\n",
        "rating_df.show(10)\n",
        "rating_df.printSchema()"
      ],
      "execution_count": 0,
      "outputs": [
        {
          "output_type": "stream",
          "text": [
            "+------+----------+------+\n",
            "|userId|businessId|rating|\n",
            "+------+----------+------+\n",
            "|488725|       322|   2.0|\n",
            "|311736|       322|   5.0|\n",
            "|583137|       322|   5.0|\n",
            "|231561|       322|   4.0|\n",
            "|411995|       322|   4.0|\n",
            "|842245|       322|   5.0|\n",
            "|747100|       322|   4.0|\n",
            "|476157|       322|   3.0|\n",
            "|963661|      2152|   4.0|\n",
            "|935280|      2837|   4.0|\n",
            "+------+----------+------+\n",
            "only showing top 10 rows\n",
            "\n",
            "root\n",
            " |-- userId: integer (nullable = true)\n",
            " |-- businessId: integer (nullable = true)\n",
            " |-- rating: float (nullable = true)\n",
            "\n"
          ],
          "name": "stdout"
        }
      ]
    },
    {
      "cell_type": "code",
      "metadata": {
        "id": "8CZuWUccRmud",
        "colab_type": "code",
        "colab": {}
      },
      "source": [
        "(train, test) = rating_df.randomSplit([0.8, 0.2], seed=123)\n"
      ],
      "execution_count": 0,
      "outputs": []
    },
    {
      "cell_type": "code",
      "metadata": {
        "id": "uOQZ5JoxSVcf",
        "colab_type": "code",
        "outputId": "cbe3e9b7-4cfa-418b-a613-9b6388575296",
        "colab": {
          "base_uri": "https://localhost:8080/",
          "height": 34
        }
      },
      "source": [
        "als = ALS(userCol=\"userId\", itemCol=\"businessId\", ratingCol=\"rating\", coldStartStrategy=\"drop\")\n",
        "\n",
        "param_grid = ParamGridBuilder().addGrid(\n",
        "    als.rank,\n",
        "    [10, 15, 20],\n",
        ").addGrid(\n",
        "    als.maxIter,\n",
        "    [10, 15, 20],\n",
        ").build()\n",
        "\n",
        "evaluator = RegressionEvaluator(\n",
        "    metricName=\"rmse\",\n",
        "    labelCol=\"rating\",\n",
        ")\n",
        "\n",
        "cv = CrossValidator(estimator=als, estimatorParamMaps=param_grid, evaluator=evaluator, numFolds=5, seed=123)\n",
        "cv_als_model = cv.fit(train)\n",
        "\n",
        "# Evaluate the model by computing the RMSE on the test data\n",
        "\n",
        "als_predictions = cv_als_model.bestModel.transform(test)\n",
        "evaluator = RegressionEvaluator(metricName=\"rmse\", labelCol=\"rating\", predictionCol=\"prediction\")\n",
        "rmse = evaluator.evaluate(als_predictions)\n",
        "print(\"Root-mean-square error = \" + str(round(rmse,2)))\n",
        "\n",
        "best_model = cv_als_model.bestModel\n",
        "\n",
        "(best_model\n",
        "    ._java_obj     \n",
        "    .parent()      \n",
        "    .getMaxIter())"
      ],
      "execution_count": 0,
      "outputs": [
        {
          "output_type": "stream",
          "text": [
            "Root-mean-square error = 0.89\n"
          ],
          "name": "stdout"
        }
      ]
    },
    {
      "cell_type": "code",
      "metadata": {
        "id": "7cSJei_vSe_T",
        "colab_type": "code",
        "colab": {}
      },
      "source": [
        "with open('gdrive/My Drive/Yelp Data/collab_model.pkl', 'wb') as f:\n",
        "  pickle.dump(best_model, f)"
      ],
      "execution_count": 0,
      "outputs": []
    },
    {
      "cell_type": "code",
      "metadata": {
        "id": "Qo6XnoOjeqzM",
        "colab_type": "code",
        "colab": {}
      },
      "source": [
        "userRecoms = best_model.recommendForAllUsers(5)"
      ],
      "execution_count": 0,
      "outputs": []
    },
    {
      "cell_type": "code",
      "metadata": {
        "id": "HRXmCZN5kgVU",
        "colab_type": "code",
        "outputId": "478fba19-1a55-4e97-bd49-7e4356c5fbb1",
        "colab": {
          "base_uri": "https://localhost:8080/",
          "height": 202
        }
      },
      "source": [
        "userRecoms.show(5)"
      ],
      "execution_count": 0,
      "outputs": [
        {
          "output_type": "stream",
          "text": [
            "+------+--------------------+\n",
            "|userId|     recommendations|\n",
            "+------+--------------------+\n",
            "|   833|[[3428, 3.9349976...|\n",
            "|606094|[[333, 4.9199047]...|\n",
            "|934964|[[4402, 3.9349976...|\n",
            "|141737|[[3662, 4.9299006...|\n",
            "|809289|[[1222, 3.9548275...|\n",
            "+------+--------------------+\n",
            "only showing top 5 rows\n",
            "\n"
          ],
          "name": "stdout"
        }
      ]
    },
    {
      "cell_type": "code",
      "metadata": {
        "id": "uWI-pVtYkiNv",
        "colab_type": "code",
        "outputId": "e5e98c31-3329-4f53-b187-d3a1ccc3f615",
        "colab": {
          "base_uri": "https://localhost:8080/",
          "height": 118
        }
      },
      "source": [
        "userRecoms.filter('userId == 606094').show(5)"
      ],
      "execution_count": 0,
      "outputs": [
        {
          "output_type": "stream",
          "text": [
            "+------+--------------------+\n",
            "|userId|     recommendations|\n",
            "+------+--------------------+\n",
            "|606094|[[333, 4.9199047]...|\n",
            "+------+--------------------+\n",
            "\n"
          ],
          "name": "stdout"
        }
      ]
    },
    {
      "cell_type": "code",
      "metadata": {
        "id": "z9iuEgjruRs7",
        "colab_type": "code",
        "colab": {}
      },
      "source": [
        ""
      ],
      "execution_count": 0,
      "outputs": []
    }
  ]
}